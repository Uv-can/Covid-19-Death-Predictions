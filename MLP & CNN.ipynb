{
 "cells": [
  {
   "cell_type": "code",
   "execution_count": 4,
   "metadata": {},
   "outputs": [],
   "source": [
    "import pandas as pd\n",
    "import numpy as np\n",
    "import keras\n",
    "from numpy import array\n",
    "from pandas import read_csv\n",
    "from matplotlib import pyplot\n",
    "from keras.models import Sequential\n",
    "from keras.layers import GRU\n",
    "from keras.layers import LSTM\n",
    "from keras.layers import Dense\n",
    "from keras.layers import Flatten\n",
    "from keras.layers import Dropout\n",
    "from keras.layers import RepeatVector\n",
    "from keras.layers.convolutional import Conv1D\n",
    "from keras.layers.convolutional import MaxPooling1D\n",
    "from matplotlib import pyplot as plt\n",
    "from itertools import chain"
   ]
  },
  {
   "cell_type": "code",
   "execution_count": 5,
   "metadata": {},
   "outputs": [],
   "source": [
    "df = pd.read_csv('https://raw.githubusercontent.com/scalation/data/master/COVID/CLEANED_35.csv')\n",
    "date = df['date'].tail(362-42)\n",
    "deaths = df['deathIncrease'].tail(362-42)\n",
    "sequence=array(deaths)"
   ]
  },
  {
   "cell_type": "code",
   "execution_count": 6,
   "metadata": {},
   "outputs": [],
   "source": [
    "def split_sequence(data,steps_in,steps_out):\n",
    "    X,y=list(),list()\n",
    "    for i in range(len(data)):\n",
    "        seq_end=i+steps_in\n",
    "        end_out=seq_end+steps_out\n",
    "        if end_out > len(data):\n",
    "            break\n",
    "        seq_x, seq_y=data[i:seq_end], data[seq_end:end_out]\n",
    "        X.append(seq_x)\n",
    "        y.append(seq_y)\n",
    "    return array(X),array(y)"
   ]
  },
  {
   "cell_type": "code",
   "execution_count": 7,
   "metadata": {},
   "outputs": [],
   "source": [
    "steps_in, steps_out = 21 , 14\n",
    "X, y=split_sequence(sequence,steps_in,steps_out)"
   ]
  },
  {
   "cell_type": "code",
   "execution_count": 8,
   "metadata": {},
   "outputs": [
    {
     "name": "stdout",
     "output_type": "stream",
     "text": [
      "(320, 1)\n",
      "(286, 21) (286, 14)\n"
     ]
    }
   ],
   "source": [
    "Xa=sequence\n",
    "Xa=Xa.reshape(Xa.shape[0],1)\n",
    "print(Xa.shape)\n",
    "print(X.shape, y.shape)"
   ]
  },
  {
   "cell_type": "code",
   "execution_count": 23,
   "metadata": {},
   "outputs": [
    {
     "name": "stdout",
     "output_type": "stream",
     "text": [
      "Model: \"sequential_4\"\n",
      "_________________________________________________________________\n",
      "Layer (type)                 Output Shape              Param #   \n",
      "=================================================================\n",
      "dense_13 (Dense)             (None, 160)               3520      \n",
      "_________________________________________________________________\n",
      "dense_14 (Dense)             (None, 32)                5152      \n",
      "_________________________________________________________________\n",
      "dense_15 (Dense)             (None, 64)                2112      \n",
      "_________________________________________________________________\n",
      "dense_16 (Dense)             (None, 14)                910       \n",
      "=================================================================\n",
      "Total params: 11,694\n",
      "Trainable params: 11,694\n",
      "Non-trainable params: 0\n",
      "_________________________________________________________________\n"
     ]
    }
   ],
   "source": [
    "#Tuned model using keras tuner\n",
    "model=Sequential()\n",
    "model.add(Dense(160,activation='relu',input_shape=(21,)))\n",
    "model.add(Dense(32,activation='relu'))\n",
    "model.add(Dense(64,activation='relu'))\n",
    "model.add(Dense(steps_out))\n",
    "model.compile(optimizer='adam',loss='mape')\n",
    "model.summary()"
   ]
  },
  {
   "cell_type": "code",
   "execution_count": 24,
   "metadata": {},
   "outputs": [
    {
     "name": "stdout",
     "output_type": "stream",
     "text": [
      "m = 286, tr_size = 171, te_size = 115, kt = 115, h = 10\n",
      "(115, 21) (115, 14) (171, 21) (171, 14)\n",
      "we are in loop\n"
     ]
    },
    {
     "data": {
      "image/png": "[encoded data removed]",
      "text/plain": [
       "<Figure size 432x216 with 1 Axes>"
      ]
     },
     "metadata": {
      "needs_background": "light"
     },
     "output_type": "display_data"
    },
    {
     "name": "stdout",
     "output_type": "stream",
     "text": [
      "Min Training Loss = 11.37366008758545 at Epoch 448\n",
      "15.872027519007917\n",
      "h=1  ->  smape= 15.87\n",
      "18.008713974971396\n",
      "h=2  ->  smape= 18.01\n",
      "18.135771239468525\n",
      "h=3  ->  smape= 18.14\n",
      "18.898396881105256\n",
      "h=4  ->  smape= 18.90\n",
      "19.698378441280816\n",
      "h=5  ->  smape= 19.70\n",
      "18.71799136853632\n",
      "h=6  ->  smape= 18.72\n",
      "22.27835396385569\n",
      "h=7  ->  smape= 22.28\n",
      "23.984195834251818\n",
      "h=8  ->  smape= 23.98\n",
      "22.930809475909268\n",
      "h=9  ->  smape= 22.93\n",
      "23.985898522501614\n",
      "h=10 ->  smape= 23.99\n",
      "25.454424812548545\n",
      "h=11  ->  smape= 25.45\n",
      "26.00672607931844\n",
      "h=12  ->  smape= 26.01\n",
      "26.690739506853323\n",
      "h=13  ->  smape= 26.69\n",
      "27.78971361196378\n",
      "h=14  ->  smape= 27.79\n",
      "rSq =['0.8901', '0.8388', '0.8185', '0.8120', '0.7998', '0.8170', '0.7881', '0.7546', '0.7086', '0.7050', '0.6148', '0.6296', '0.6680', '0.6106'] mape =['15.49', '17.80', '18.27', '18.66', '19.69', '18.79', '21.36', '22.67', '22.12', '22.93', '23.81', '24.14', '24.00', '25.30'] smape =['15.87', '18.01', '18.14', '18.90', '19.70', '18.72', '22.28', '23.98', '22.93', '23.99', '25.45', '26.01', '26.69', '27.79'] mse =['140942.40', '205383.34', '234923.72', '247646.95', '267068.03', '245154.22', '283837.55', '326687.48', '385475.69', '391471.01', '512454.21', '514791.90', '462087.73', '538610.26'] rmse =['375.42', '453.19', '484.69', '497.64', '516.79', '495.13', '532.76', '571.57', '620.87', '625.68', '715.86', '717.49', '679.77', '733.90'] sse =['16208375.67', '23619084.48', '27016227.42', '28479399.56', '30712823.52', '28192735.01', '32641317.85', '37569060.04', '44329704.46', '45019165.63', '58932234.14', '59201068.19', '53140089.52', '61940179.46'] sst =['147457523.79', '146534760.30', '148858770.52', '151455929.10', '153381881.10', '154076134.49', '154060210.35', '153079570.35', '152115133.77', '152635052.38', '152997479.79', '159811392.26', '160036164.00', '159073958.92']\n"
     ]
    }
   ],
   "source": [
    "rSq, mape, smape, mse, rmse, sse, sst, beats, prediction, y_e = rollingValidate(model, True, X, y, -1, 10, 0, 450, 16, True, True, True)\n",
    "print(\"rSq =\"+str(rSq)+ \" mape =\"+str(mape) +\" smape =\"+ str(smape)+\" mse =\"+ str(mse) +\" rmse =\"+ str(rmse)+\" sse =\"+ str(sse)+ \" sst =\"+ str(sst))"
   ]
  },
  {
   "cell_type": "code",
   "execution_count": 29,
   "metadata": {},
   "outputs": [
    {
     "name": "stdout",
     "output_type": "stream",
     "text": [
      "Model: \"sequential_7\"\n",
      "_________________________________________________________________\n",
      "Layer (type)                 Output Shape              Param #   \n",
      "=================================================================\n",
      "dense_25 (Dense)             (None, 100)               2200      \n",
      "_________________________________________________________________\n",
      "dense_26 (Dense)             (None, 50)                5050      \n",
      "_________________________________________________________________\n",
      "dense_27 (Dense)             (None, 50)                2550      \n",
      "_________________________________________________________________\n",
      "dense_28 (Dense)             (None, 14)                714       \n",
      "=================================================================\n",
      "Total params: 10,514\n",
      "Trainable params: 10,514\n",
      "Non-trainable params: 0\n",
      "_________________________________________________________________\n"
     ]
    }
   ],
   "source": [
    "#model before tuning\n",
    "amodel=Sequential()\n",
    "amodel.add(Dense(100,activation='relu',input_shape=(21,)))\n",
    "amodel.add(Dense(50,activation='relu'))\n",
    "amodel.add(Dense(50,activation='relu'))\n",
    "amodel.add(Dense(steps_out))\n",
    "amodel.compile(optimizer='adam',loss='mape')\n",
    "amodel.summary()"
   ]
  },
  {
   "cell_type": "code",
   "execution_count": 30,
   "metadata": {},
   "outputs": [
    {
     "name": "stdout",
     "output_type": "stream",
     "text": [
      "m = 286, tr_size = 171, te_size = 115, kt = 115, h = 10\n",
      "(115, 21) (115, 14) (171, 21) (171, 14)\n",
      "we are in loop\n"
     ]
    },
    {
     "data": {
      "image/png": "[encoded data removed]",
      "text/plain": [
       "<Figure size 432x216 with 1 Axes>"
      ]
     },
     "metadata": {
      "needs_background": "light"
     },
     "output_type": "display_data"
    },
    {
     "name": "stdout",
     "output_type": "stream",
     "text": [
      "Min Training Loss = 11.81835651397705 at Epoch 194\n",
      "20.99768081526184\n",
      "h=1  ->  smape= 21.00\n",
      "18.238676046381656\n",
      "h=2  ->  smape= 18.24\n",
      "21.04156708179014\n",
      "h=3  ->  smape= 21.04\n",
      "20.224846209096984\n",
      "h=4  ->  smape= 20.22\n",
      "19.733770257914404\n",
      "h=5  ->  smape= 19.73\n",
      "19.584246791044833\n",
      "h=6  ->  smape= 19.58\n",
      "24.98873675699679\n",
      "h=7  ->  smape= 24.99\n",
      "23.10472173422411\n",
      "h=8  ->  smape= 23.10\n",
      "25.169702335425075\n",
      "h=9  ->  smape= 25.17\n",
      "27.736766512113224\n",
      "h=10 ->  smape= 27.74\n",
      "29.325252293349365\n",
      "h=11  ->  smape= 29.33\n",
      "30.935623425944595\n",
      "h=12  ->  smape= 30.94\n",
      "27.85368800688839\n",
      "h=13  ->  smape= 27.85\n",
      "26.096157339911013\n",
      "h=14  ->  smape= 26.10\n",
      "rSq =['0.8737', '0.8503', '0.8169', '0.8032', '0.8187', '0.8150', '0.7682', '0.7618', '0.7063', '0.6620', '0.6085', '0.6029', '0.6423', '0.6504'] mape =['18.88', '17.48', '19.76', '19.00', '19.23', '19.28', '23.15', '21.65', '22.95', '24.54', '25.56', '26.50', '25.05', '24.23'] smape =['21.00', '18.24', '21.04', '20.22', '19.73', '19.58', '24.99', '23.10', '25.17', '27.74', '29.33', '30.94', '27.85', '26.10'] mse =['161918.30', '190738.50', '237022.66', '259245.48', '241802.35', '247844.59', '310586.43', '317140.05', '388495.83', '448565.40', '520837.37', '551794.81', '497814.98', '483568.97'] rmse =['402.39', '436.74', '486.85', '509.16', '491.73', '497.84', '557.30', '563.15', '623.29', '669.75', '721.69', '742.83', '705.56', '695.39'] sse =['18620604.37', '21934927.84', '27257606.17', '29813229.93', '27807270.60', '28502127.91', '35717439.81', '36471105.99', '44677020.80', '51585021.01', '59896297.58', '63456403.65', '57248722.32', '55610431.14'] sst =['147457523.79', '146534760.30', '148858770.52', '151455929.10', '153381881.10', '154076134.49', '154060210.35', '153079570.35', '152115133.77', '152635052.38', '152997479.79', '159811392.26', '160036164.00', '159073958.92']\n"
     ]
    }
   ],
   "source": [
    "rSq, mape, smape, mse, rmse, sse, sst, beats, prediction, y_e = rollingValidate(amodel, True, X, y, -1, 10, 0, 200, 16, True, True, True)\n",
    "print(\"rSq =\"+str(rSq)+ \" mape =\"+str(mape) +\" smape =\"+ str(smape)+\" mse =\"+ str(mse) +\" rmse =\"+ str(rmse)+\" sse =\"+ str(sse)+ \" sst =\"+ str(sst))"
   ]
  },
  {
   "cell_type": "code",
   "execution_count": 9,
   "metadata": {},
   "outputs": [],
   "source": [
    "Xa=X\n",
    "ya=y\n",
    "features=1\n",
    "Xa=Xa.reshape(Xa.shape[0],Xa.shape[1],features)\n"
   ]
  },
  {
   "cell_type": "code",
   "execution_count": 19,
   "metadata": {},
   "outputs": [
    {
     "name": "stdout",
     "output_type": "stream",
     "text": [
      "Model: \"sequential_2\"\n",
      "_________________________________________________________________\n",
      "Layer (type)                 Output Shape              Param #   \n",
      "=================================================================\n",
      "conv1d_2 (Conv1D)            (None, 20, 64)            192       \n",
      "_________________________________________________________________\n",
      "max_pooling1d_2 (MaxPooling1 (None, 10, 64)            0         \n",
      "_________________________________________________________________\n",
      "flatten_2 (Flatten)          (None, 640)               0         \n",
      "_________________________________________________________________\n",
      "dense_6 (Dense)              (None, 224)               143584    \n",
      "_________________________________________________________________\n",
      "dense_7 (Dense)              (None, 32)                7200      \n",
      "_________________________________________________________________\n",
      "dense_8 (Dense)              (None, 14)                462       \n",
      "=================================================================\n",
      "Total params: 151,438\n",
      "Trainable params: 151,438\n",
      "Non-trainable params: 0\n",
      "_________________________________________________________________\n"
     ]
    }
   ],
   "source": [
    "#Tuned CNN model\n",
    "modelCNN=Sequential()\n",
    "modelCNN.add(Conv1D(filters=64, kernel_size=2, activation='relu', input_shape=(steps_in, features)))\n",
    "modelCNN.add(MaxPooling1D(pool_size=2))\n",
    "modelCNN.add(Flatten())\n",
    "modelCNN.add(Dense(224,activation='relu'))\n",
    "modelCNN.add(Dense(32,activation='relu'))\n",
    "modelCNN.add(Dense(steps_out))\n",
    "modelCNN.compile(optimizer='adam',loss='mape')\n",
    "modelCNN.summary()"
   ]
  },
  {
   "cell_type": "code",
   "execution_count": 20,
   "metadata": {},
   "outputs": [
    {
     "name": "stdout",
     "output_type": "stream",
     "text": [
      "m = 286, tr_size = 171, te_size = 115, kt = 115, h = 10\n",
      "(115, 21, 1) (115, 14) (171, 21, 1) (171, 14)\n",
      "we are in loop\n"
     ]
    },
    {
     "data": {
      "image/png": "[encoded data removed]",
      "text/plain": [
       "<Figure size 432x216 with 1 Axes>"
      ]
     },
     "metadata": {
      "needs_background": "light"
     },
     "output_type": "display_data"
    },
    {
     "name": "stdout",
     "output_type": "stream",
     "text": [
      "Min Training Loss = 10.259946823120117 at Epoch 336\n",
      "17.181819860723735\n",
      "h=1  ->  smape= 17.18\n",
      "17.768542347566303\n",
      "h=2  ->  smape= 17.77\n",
      "19.44582566420087\n",
      "h=3  ->  smape= 19.45\n",
      "20.721222568156296\n",
      "h=4  ->  smape= 20.72\n",
      "20.17803571123496\n",
      "h=5  ->  smape= 20.18\n",
      "22.26064647200547\n",
      "h=6  ->  smape= 22.26\n",
      "20.702170009858182\n",
      "h=7  ->  smape= 20.70\n",
      "24.257540519705337\n",
      "h=8  ->  smape= 24.26\n",
      "23.24003539344627\n",
      "h=9  ->  smape= 23.24\n",
      "25.28659919528901\n",
      "h=10 ->  smape= 25.29\n",
      "24.937321708067287\n",
      "h=11  ->  smape= 24.94\n",
      "26.903130431007316\n",
      "h=12  ->  smape= 26.90\n",
      "26.818219942903422\n",
      "h=13  ->  smape= 26.82\n",
      "25.872344413068728\n",
      "h=14  ->  smape= 25.87\n",
      "rSq =['0.8708', '0.7995', '0.8052', '0.7798', '0.7727', '0.7273', '0.7754', '0.6762', '0.6484', '0.6053', '0.6638', '0.6206', '0.6144', '0.5631'] mape =['16.59', '18.94', '20.05', '19.87', '19.64', '22.80', '20.53', '22.60', '23.28', '25.69', '23.55', '24.43', '25.38', '24.23'] smape =['17.18', '17.77', '19.45', '20.72', '20.18', '22.26', '20.70', '24.26', '23.24', '25.29', '24.94', '26.90', '26.82', '25.87'] mse =['165716.23', '255441.03', '252200.43', '290054.85', '303156.64', '365346.51', '300899.37', '431091.97', '465086.41', '523810.39', '447227.44', '527182.72', '536628.53', '604332.16'] rmse =['407.08', '505.41', '502.20', '538.57', '550.60', '604.44', '548.54', '656.58', '681.97', '723.75', '668.75', '726.07', '732.55', '777.39'] sse =['19057366.28', '29375718.70', '29003049.08', '33356308.15', '34863013.18', '42014848.88', '34603427.53', '49575576.53', '53484937.59', '60238194.46', '51431155.21', '60626012.59', '61712280.54', '69498198.66'] sst =['147457523.79', '146534760.30', '148858770.52', '151455929.10', '153381881.10', '154076134.49', '154060210.35', '153079570.35', '152115133.77', '152635052.38', '152997479.79', '159811392.26', '160036164.00', '159073958.92']\n"
     ]
    }
   ],
   "source": [
    "import tensorflow as tf\n",
    "tf.config.run_functions_eagerly(True)\n",
    "rSq, mape, smape, mse, rmse, sse, sst, beats, prediction, y_e = rollingValidate(modelCNN, True, Xa, ya, -1, 10, 0, 350, 16, True, True, True)\n",
    "print(\"rSq =\"+str(rSq)+ \" mape =\"+str(mape) +\" smape =\"+ str(smape)+\" mse =\"+ str(mse) +\" rmse =\"+ str(rmse)+\" sse =\"+ str(sse)+ \" sst =\"+ str(sst))"
   ]
  },
  {
   "cell_type": "code",
   "execution_count": 31,
   "metadata": {},
   "outputs": [
    {
     "name": "stdout",
     "output_type": "stream",
     "text": [
      "Model: \"sequential_8\"\n",
      "_________________________________________________________________\n",
      "Layer (type)                 Output Shape              Param #   \n",
      "=================================================================\n",
      "conv1d_3 (Conv1D)            (None, 20, 64)            192       \n",
      "_________________________________________________________________\n",
      "max_pooling1d_3 (MaxPooling1 (None, 10, 64)            0         \n",
      "_________________________________________________________________\n",
      "flatten_3 (Flatten)          (None, 640)               0         \n",
      "_________________________________________________________________\n",
      "dense_29 (Dense)             (None, 100)               64100     \n",
      "_________________________________________________________________\n",
      "dense_30 (Dense)             (None, 50)                5050      \n",
      "_________________________________________________________________\n",
      "dense_31 (Dense)             (None, 14)                714       \n",
      "=================================================================\n",
      "Total params: 70,056\n",
      "Trainable params: 70,056\n",
      "Non-trainable params: 0\n",
      "_________________________________________________________________\n"
     ]
    }
   ],
   "source": [
    "#Model before tuning\n",
    "amodelCNN=Sequential()\n",
    "amodelCNN.add(Conv1D(filters=64, kernel_size=2, activation='relu', input_shape=(steps_in, features)))\n",
    "amodelCNN.add(MaxPooling1D(pool_size=2))\n",
    "amodelCNN.add(Flatten())\n",
    "amodelCNN.add(Dense(100,activation='relu'))\n",
    "amodelCNN.add(Dense(50,activation='relu'))\n",
    "amodelCNN.add(Dense(steps_out))\n",
    "amodelCNN.compile(optimizer='adam',loss='mape')\n",
    "amodelCNN.summary()"
   ]
  },
  {
   "cell_type": "code",
   "execution_count": 32,
   "metadata": {},
   "outputs": [
    {
     "name": "stdout",
     "output_type": "stream",
     "text": [
      "m = 286, tr_size = 171, te_size = 115, kt = 115, h = 10\n",
      "(115, 21, 1) (115, 14) (171, 21, 1) (171, 14)\n",
      "we are in loop\n"
     ]
    },
    {
     "data": {
      "image/png": "[encoded data removed]",
      "text/plain": [
       "<Figure size 432x216 with 1 Axes>"
      ]
     },
     "metadata": {
      "needs_background": "light"
     },
     "output_type": "display_data"
    },
    {
     "name": "stdout",
     "output_type": "stream",
     "text": [
      "Min Training Loss = 10.629609107971191 at Epoch 350\n",
      "17.18989596087262\n",
      "h=1  ->  smape= 17.19\n",
      "17.48505909222364\n",
      "h=2  ->  smape= 17.49\n",
      "19.682841229911542\n",
      "h=3  ->  smape= 19.68\n",
      "19.751525038470728\n",
      "h=4  ->  smape= 19.75\n",
      "18.428208105337042\n",
      "h=5  ->  smape= 18.43\n",
      "20.20509855818265\n",
      "h=6  ->  smape= 20.21\n",
      "20.816055286005682\n",
      "h=7  ->  smape= 20.82\n",
      "24.172172096463576\n",
      "h=8  ->  smape= 24.17\n",
      "21.968463236873745\n",
      "h=9  ->  smape= 21.97\n",
      "22.742256901108494\n",
      "h=10 ->  smape= 22.74\n",
      "24.27523471227596\n",
      "h=11  ->  smape= 24.28\n",
      "24.991659489771877\n",
      "h=12  ->  smape= 24.99\n",
      "27.327071678978704\n",
      "h=13  ->  smape= 27.33\n",
      "27.86387023273506\n",
      "h=14  ->  smape= 27.86\n",
      "rSq =['0.8777', '0.8307', '0.8200', '0.7885', '0.8155', '0.7797', '0.7462', '0.7177', '0.7219', '0.6764', '0.6708', '0.6193', '0.6441', '0.5936'] mape =['16.62', '18.37', '19.19', '20.19', '18.29', '20.64', '20.62', '22.86', '22.19', '21.70', '23.33', '24.25', '25.40', '25.10'] smape =['17.19', '17.49', '19.68', '19.75', '18.43', '20.21', '20.82', '24.17', '21.97', '22.74', '24.28', '24.99', '27.33', '27.86'] mse =['156812.78', '215761.92', '232940.95', '278488.84', '246025.43', '295162.70', '340047.52', '375844.36', '367882.92', '429519.40', '437971.31', '529059.33', '495335.50', '562154.27'] rmse =['396.00', '464.50', '482.64', '527.72', '496.01', '543.29', '583.14', '613.06', '606.53', '655.38', '661.79', '727.36', '703.80', '749.77'] sse =['18033469.86', '24812620.95', '26788209.31', '32026216.97', '28292924.34', '33943710.45', '39105464.98', '43222100.91', '42306535.82', '49394731.19', '50366700.51', '60841823.52', '56963581.96', '64647741.22'] sst =['147457523.79', '146534760.30', '148858770.52', '151455929.10', '153381881.10', '154076134.49', '154060210.35', '153079570.35', '152115133.77', '152635052.38', '152997479.79', '159811392.26', '160036164.00', '159073958.92']\n"
     ]
    }
   ],
   "source": [
    "rSq, mape, smape, mse, rmse, sse, sst, beats, prediction, y_e = rollingValidate(amodelCNN, True, Xa, ya, -1, 10, 0, 350, 16, True, True, True)\n",
    "print(\"rSq =\"+str(rSq)+ \" mape =\"+str(mape) +\" smape =\"+ str(smape)+\" mse =\"+ str(mse) +\" rmse =\"+ str(rmse)+\" sse =\"+ str(sse)+ \" sst =\"+ str(sst))"
   ]
  },
  {
   "cell_type": "code",
   "execution_count": 12,
   "metadata": {},
   "outputs": [],
   "source": [
    "def plotHistory(fit_history,ls=\"MAPE\"):\n",
    "    #Get training loss\n",
    "    loss = fit_history.history['loss']\n",
    "    # val_loss = fit_history.history['val_loss']\n",
    "\n",
    "    # Create count of the number of epochs\n",
    "    epoch_count = range(1, len(loss) + 1)\n",
    "\n",
    "#     # Visualize loss history - Plotting Loss vs Number of Epochs during training\n",
    "    plt.figure(num=0,figsize=(6,3))\n",
    "    plt.plot(epoch_count, loss)\n",
    "    # plt.plot(val_loss)\n",
    "    plt.legend(['Training Loss - '+str(ls), 'Validation Loss - '+str(ls)])\n",
    "    plt.xlabel('Epochs')\n",
    "    plt.ylabel(ls)\n",
    "    plt.title(\"Loss vs Epochs\")\n",
    "    plt.show()\n",
    "\n",
    "#     print(\"_________________________________________________________________________________________\")\n",
    "    print(\"Min Training Loss = \" + str(np.min(loss)) + \" \",end='')\n",
    "    print(\"at Epoch \" + str(np.argmin(loss) + 1))\n",
    "    # print(\"Min Validation Loss = \" + str(np.min(val_loss)) + \" \",end='')\n",
    "    # print(\"at Epoch \" + str(np.argmin(val_loss) + 1))\n",
    "#     print(\"__________________________________________________________________________________________\")"
   ]
  },
  {
   "cell_type": "code",
   "execution_count": 13,
   "metadata": {},
   "outputs": [],
   "source": [
    "def eval(y,yp):\n",
    "    # print(y)\n",
    "    # print(yp)\n",
    "    import math\n",
    "    roundTo = 5\n",
    "    m = y.shape[0]\n",
    "    # print(m)\n",
    "    e = np.array(y - yp)\n",
    "\n",
    "    # print(\"m\")\n",
    "    # print(e)\n",
    "    yt = np.array(y - y.mean())\n",
    "    sse = e.dot(e)\n",
    "    sst = yt.dot(yt)\n",
    "    rSq = round((1 - ((sse)/(sst))),roundTo)\n",
    "    mape = round(((np.absolute(e)/np.absolute(y)).sum())*100/m,roundTo)\n",
    "    t = (np.absolute(e)/(np.absolute(y)+np.absolute(yp)))\n",
    "    print(t.sum()*200/m)\n",
    "    smape = round(((np.absolute(e)/(np.absolute(y)+np.absolute(yp))).sum())*200/m,roundTo)\n",
    "    # smape  = 200 * (e.abs / (yy.abs + yp.abs)).sum / m\n",
    "    mse = round((sse/m),roundTo)\n",
    "    rmse = round(math.sqrt(mse),roundTo)\n",
    "#     return(rSq,mape,mse,rmse,sse,sst)\n",
    "    return(format(rSq,'.4f'),format(mape,'.2f'),format(smape,'.2f'),format(mse,'.2f'),format(rmse,'.2f'),format(sse,'.2f'),format(sst,'.2f'))"
   ]
  },
  {
   "cell_type": "code",
   "execution_count": 14,
   "metadata": {},
   "outputs": [],
   "source": [
    "def rollingValidate(model, train, x, y, kt, h, callbk, nEpoch, nBatch, plot, p1, p2):\n",
    "    TR_RATIO = 0.6\n",
    "    m = y.shape[0]\n",
    "    tr_size = int(m * TR_RATIO)\n",
    "    te_size = int(m - tr_size)\n",
    "    te = int(tr_size)\n",
    "    if kt < 0: kt = te_size\n",
    "    print(\"m = \"+str(m)+\", tr_size = \"+str(tr_size)+\", te_size = \"+str(te_size)+\", kt = \"+str(kt)+\", h = \"+str(h))\n",
    "    \n",
    "    (x_e, y_e, x_r, y_r) = chopr (x, y, te, te_size, tr_size)\n",
    "    print(x_e.shape, y_e.shape, x_r.shape, y_r.shape)\n",
    "    # print(type(y_r))\n",
    "    # print(y_r.index)\n",
    "    \n",
    "    # print(type(y_e))\n",
    "    # print(y_e.index)\n",
    "    #print(y_e.shape)\n",
    "    #y_e = np.array(y_e)\n",
    "    #print(y_e)\n",
    "   # smapearr = [x for x in range(10,24)]\n",
    "   # for h in range(1,15):\n",
    "   #     yr =  y_r[h-1]\n",
    "   #     inp = y_e[h-1].tolist()\n",
    "   #     yrw = inp[:-h]\n",
    "       \n",
    "   #     for i in range(h):\n",
    "   #         yrw.insert(i,inp[i])\n",
    "   #     yrw = np.array(yrw)\n",
    "   #     rSqr, maper, smaper, mser, rmser, sser, sstr = eval(y_e[h-1],yrw)\n",
    "   #     smapearr[h-1] = smaper\n",
    "#     x_r = x_r[1000:]\n",
    "#     y_r = y_r[1000:]\n",
    "#     print(\"Training shape\"+str(x_r.shape))\n",
    "#     print(\"Training shape\"+str(y_r.shape))\n",
    "#     print(\"Testing shape\"+str(x_e.shape))\n",
    "#     print(\"Testing shape\"+str(y_e.shape))\n",
    "    rt = 0\n",
    "#     print(\"number of re-trainings required = \"+str(int((te_size/kt)+1)))\n",
    "    for i in range(y_e.shape[0]):\n",
    "        if i%kt == 0:\n",
    "            rt = rt + 1\n",
    "            if i > 0:\n",
    "                x_r, y_r = shift_rm((x_r,y_r),((x_e.iloc[i-kt:i], y_e.iloc[i-kt:i])))\n",
    "            if train:\n",
    "                if callbk==1:\n",
    "                    callb = callbacks.EarlyStopping(monitor='loss', restore_best_weights=True, patience=20,verbose=1)\n",
    "                else: callb = None\n",
    "                print(\"we are in loop\")\n",
    "                fit_history = model.fit(x_r, y_r,validation_split=0.10,shuffle=True,epochs=nEpoch, \\\n",
    "                                        batch_size=nBatch,verbose=0, callbacks=callb) #callbacks=[tfa.callbacks.TQDMProgressBar(leave_epoch_progress=False,show_epoch_progress=False)]  workers=10, use_multiprocessing=True,\n",
    "            if plot: plotHistory(fit_history)\n",
    "#     print(\"\\nOut-Sample Results\")\n",
    "#    rw = np.array([2.47,3.79,4.6,5.23,5.75,6.18,6.61,6.94,7.29,7.70]) #RW results - mape for 50% TR\n",
    "#    rw = np.array([float(x) for x in smapearr]) #calculated using python\n",
    "    beats = []\n",
    "    \n",
    "    prediction = model.predict(x_e,batch_size=100)\n",
    "    rSq  = [x for x in range(14)]\n",
    "    mse  = [x for x in range(14)]\n",
    "    sse  = [x for x in range(14)]\n",
    "    sst  = [x for x in range(14)]\n",
    "    rmse = [x for x in range(14)]\n",
    "    mape = [x for x in range(14)]\n",
    "    smape = [x for x in range(14)]\n",
    "    maxdif = 0\n",
    "    maxdifh = 0\n",
    "\n",
    "    for h in range(1,15):\n",
    "        yf = prediction[:,h-1]\n",
    "        rSq[h-1], mape[h-1], smape[h-1], mse[h-1], rmse[h-1], sse[h-1], sst[h-1] = eval(y_e[:,h-1],yf)\n",
    "       # diff = (rw[h-1] - float(mape[h-1]))\n",
    "        #if rw[h-1] >= float(mape[h-1]): beats.append(h)\n",
    "        #if diff > maxdif:\n",
    "        #    maxdif = diff\n",
    "        #    maxdifh = h\n",
    "        if p1:\n",
    "            if h != 10:print(\"h=\"+str(h)+\"  -> \"+\" smape= \"+str(smape[h-1]))     #\" sse = \"+str(sse[h-1]) +\n",
    "            else:print(\"h=\"+str(h)+\" -> \"+\" smape= \"+str(smape[h-1]))            #\" sse = \"+str(sse[h-1]) +\n",
    "#             if h != 10: print(\"h=\"+str(h)+\"  -> \"+\"rsq = \"+str(rSq[h-1])+\" mape = \"+str(mape[h-1])+\",\"+str(format(rw[h-1],'.2f'))+\" mse = \"+str(mse[h-1])+\" rmse = \"+str(rmse[h-1]) +\" sst = \"+str(sst[h-1])) #\" sse = \"+str(sse[h-1]) +\n",
    "#             else: print(\"h=\"+str(h)+\" -> \"+\"rsq = \"+str(rSq[h-1])+\" mape = \"+str(mape[h-1])+\",\"+str(format(rw[h-1],'.2f'))+\" mse = \"+str(mse[h-1])+\" rmse = \"+str(rmse[h-1]) +\" sst = \"+str(sst[h-1])) #\" sse = \"+str(sse[h-1]) +\n",
    "#         print(\"h=\"+str(h)+\" -> \"+\" mape = \"+str(mape)+\",\"+str(rw[h-1])+\" rsq = \"+str(rSq))\n",
    "    #if p2: \n",
    "        #print(\"Beats RW at \"+str(len(beats))+\" values of h=\"+str(beats))\n",
    "        #print(\"Max difference = \"+str(maxdif)+\" at horizon h=\"+str(maxdifh))\n",
    "    return (rSq, mape, smape, mse, rmse, sse, sst, beats, prediction, y_e)"
   ]
  },
  {
   "cell_type": "code",
   "execution_count": 15,
   "metadata": {},
   "outputs": [],
   "source": [
    "def chopr(x,y,te,te_size,tr_size):\n",
    "    te2 = te + te_size\n",
    "    tr = te - tr_size\n",
    "#     print(\"te=\"+str(te))\n",
    "#     print(\"te_size=\"+str(te_size))\n",
    "#     print(\"tr_size=\"+str(tr_size))\n",
    "    x_e = x[te:te2]\n",
    "    y_e = y[te:te2]\n",
    "    x_r = x[tr:te]\n",
    "    y_r = y[tr:te]\n",
    "    \n",
    "#     print(\"test: x_e(\"+str(te)+\" .. \"+str(te2-1)+\")\")\n",
    "#     print(\"test: y_e(\"+str(te)+\" .. \"+str(te2-1)+\")\")\n",
    "#     print(\"train: x_r(\"+str(tr)+\" .. \"+str(te-1)+\")\")\n",
    "#     print(\"train: y_r(\"+str(tr)+\" .. \"+str(te-1)+\")\")\n",
    "    return(x_e, y_e, x_r, y_r)"
   ]
  },
  {
   "cell_type": "code",
   "execution_count": null,
   "metadata": {},
   "outputs": [],
   "source": []
  }
 ],
 "metadata": {
  "kernelspec": {
   "display_name": "Python 3",
   "language": "python",
   "name": "python3"
  },
  "language_info": {
   "codemirror_mode": {
    "name": "ipython",
    "version": 3
   },
   "file_extension": ".py",
   "mimetype": "text/x-python",
   "name": "python",
   "nbconvert_exporter": "python",
   "pygments_lexer": "ipython3",
   "version": "3.8.5"
  }
 },
 "nbformat": 4,
 "nbformat_minor": 4
}
