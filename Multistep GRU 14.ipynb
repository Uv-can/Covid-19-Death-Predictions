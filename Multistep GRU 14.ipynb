{
 "cells": [
  {
   "cell_type": "code",
   "execution_count": 1,
   "metadata": {},
   "outputs": [],
   "source": [
    "import pandas as pd\n",
    "import numpy as np\n",
    "import keras\n",
    "from numpy import array\n",
    "from pandas import read_csv\n",
    "from matplotlib import pyplot\n",
    "from keras.models import Sequential\n",
    "from keras.layers import GRU\n",
    "from keras.layers import LSTM\n",
    "from keras.layers import Dense\n",
    "from keras.layers import Flatten\n",
    "from keras.layers import Dropout\n",
    "from keras.layers import RepeatVector\n",
    "from keras.layers.convolutional import Conv1D\n",
    "from keras.layers.convolutional import MaxPooling1D\n",
    "from matplotlib import pyplot as plt\n",
    "from itertools import chain"
   ]
  },
  {
   "cell_type": "code",
   "execution_count": null,
   "metadata": {},
   "outputs": [],
   "source": []
  },
  {
   "cell_type": "code",
   "execution_count": 2,
   "metadata": {},
   "outputs": [
    {
     "name": "stdout",
     "output_type": "stream",
     "text": [
      "(391, 18)\n"
     ]
    }
   ],
   "source": [
    "df = pd.read_csv('https://raw.githubusercontent.com/scalation/data/master/COVID/CLEANED_35.csv')\n",
    "print(df.shape)\n",
    "deaths = df['deathIncrease'].tail(391-44)\n",
    "sequence=list(deaths)"
   ]
  },
  {
   "cell_type": "code",
   "execution_count": 3,
   "metadata": {},
   "outputs": [],
   "source": [
    "def split_sequence(data,steps_in,steps_out):\n",
    "    X,y=list(),list()\n",
    "    for i in range(len(data)):\n",
    "        seq_end=i+steps_in\n",
    "        end_out=seq_end+steps_out\n",
    "        if end_out > len(data):\n",
    "            break\n",
    "        seq_x, seq_y=data[i:seq_end], data[seq_end:end_out]\n",
    "        X.append(seq_x)\n",
    "        y.append(seq_y)\n",
    "    return array(X),array(y)"
   ]
  },
  {
   "cell_type": "code",
   "execution_count": 4,
   "metadata": {},
   "outputs": [],
   "source": [
    "steps_in, steps_out = 21 , 14\n",
    "X, y=split_sequence(sequence,steps_in,steps_out)"
   ]
  },
  {
   "cell_type": "code",
   "execution_count": 5,
   "metadata": {},
   "outputs": [
    {
     "name": "stdout",
     "output_type": "stream",
     "text": [
      "(313, 21, 1) (313, 14)\n"
     ]
    }
   ],
   "source": [
    "features=1\n",
    "X=X.reshape(X.shape[0],X.shape[1],features)\n",
    "print(X.shape, y.shape)"
   ]
  },
  {
   "cell_type": "code",
   "execution_count": 24,
   "metadata": {},
   "outputs": [
    {
     "name": "stdout",
     "output_type": "stream",
     "text": [
      "Model: \"sequential_6\"\n",
      "_________________________________________________________________\n",
      "Layer (type)                 Output Shape              Param #   \n",
      "=================================================================\n",
      "gru_18 (GRU)                 (None, 96)                28512     \n",
      "_________________________________________________________________\n",
      "repeat_vector_11 (RepeatVect (None, 14, 96)            0         \n",
      "_________________________________________________________________\n",
      "gru_19 (GRU)                 (None, 128)               86784     \n",
      "_________________________________________________________________\n",
      "repeat_vector_12 (RepeatVect (None, 14, 128)           0         \n",
      "_________________________________________________________________\n",
      "gru_20 (GRU)                 (None, 128)               99072     \n",
      "_________________________________________________________________\n",
      "dense_6 (Dense)              (None, 14)                1806      \n",
      "=================================================================\n",
      "Total params: 216,174\n",
      "Trainable params: 216,174\n",
      "Non-trainable params: 0\n",
      "_________________________________________________________________\n"
     ]
    }
   ],
   "source": [
    "#Model after tuning\n",
    "Tuned_model = Sequential()\n",
    "Tuned_model.add(GRU(96,activation='relu',input_shape=(steps_in,features)))\n",
    "Tuned_model.add(RepeatVector(steps_out))\n",
    "Tuned_model.add(GRU(128, activation='relu'))\n",
    "Tuned_model.add(RepeatVector(steps_out))\n",
    "Tuned_model.add(GRU(128, activation='relu'))\n",
    "Tuned_model.add(Dense(steps_out))\n",
    "Tuned_model.compile(optimizer='adam',loss='mape')\n",
    "Tuned_model.summary()"
   ]
  },
  {
   "cell_type": "code",
   "execution_count": 25,
   "metadata": {},
   "outputs": [
    {
     "name": "stdout",
     "output_type": "stream",
     "text": [
      "m = 313, tr_size = 187, te_size = 126, kt = 126, h = 10\n",
      "(126, 21, 1) (126, 14) (187, 21, 1) (187, 14)\n",
      "we are in loop\n"
     ]
    },
    {
     "data": {
      "image/png": "[encoded data removed]",
      "text/plain": [
       "<Figure size 432x216 with 1 Axes>"
      ]
     },
     "metadata": {
      "needs_background": "light"
     },
     "output_type": "display_data"
    },
    {
     "name": "stdout",
     "output_type": "stream",
     "text": [
      "Min Training Loss = 12.485584259033203 at Epoch 358\n",
      "WARNING:tensorflow:6 out of the last 11 calls to <function Model.make_predict_function.<locals>.predict_function at 0x00000298B966CAF0> triggered tf.function retracing. Tracing is expensive and the excessive number of tracings could be due to (1) creating @tf.function repeatedly in a loop, (2) passing tensors with different shapes, (3) passing Python objects instead of tensors. For (1), please define your @tf.function outside of the loop. For (2), @tf.function has experimental_relax_shapes=True option that relaxes argument shapes that can avoid unnecessary retracing. For (3), please refer to https://www.tensorflow.org/tutorials/customization/performance#python_or_tensor_args and https://www.tensorflow.org/api_docs/python/tf/function for  more details.\n",
      "h=1  ->  smape= 14.26\n",
      "h=2  ->  smape= 15.00\n",
      "h=3  ->  smape= 16.68\n",
      "h=4  ->  smape= 17.00\n",
      "h=5  ->  smape= 18.03\n",
      "h=6  ->  smape= 18.42\n",
      "h=7  ->  smape= 18.88\n",
      "h=8  ->  smape= 21.13\n",
      "h=9  ->  smape= 22.29\n",
      "h=10 ->  smape= 22.97\n",
      "h=11  ->  smape= 25.59\n",
      "h=12  ->  smape= 24.90\n",
      "h=13  ->  smape= 29.15\n",
      "h=14  ->  smape= 29.97\n",
      "rSq =['0.8941', '0.8737', '0.8397', '0.8188', '0.8286', '0.8257', '0.8010', '0.7769', '0.7515', '0.7356', '0.6918', '0.7202', '0.6775', '0.6576'] mape =['14.49', '15.81', '17.10', '17.28', '17.76', '18.11', '18.44', '20.34', '21.84', '21.67', '22.79', '21.86', '24.74', '25.34'] smape =['14.26', '15.00', '16.68', '17.00', '18.03', '18.42', '18.88', '21.13', '22.29', '22.97', '25.59', '24.90', '29.15', '29.97'] mse =['134776.82', '158553.03', '205322.21', '239054.02', '231784.10', '238203.98', '272614.72', '301415.12', '330712.23', '354315.25', '419024.75', '401601.06', '466121.96', '493401.22'] rmse =['367.12', '398.19', '453.12', '488.93', '481.44', '488.06', '522.13', '549.01', '575.08', '595.24', '647.32', '633.72', '682.73', '702.43'] sse =['16981879.37', '19977681.84', '25870598.75', '30120806.33', '29204796.57', '30013701.92', '34349455.13', '37978305.42', '41669740.82', '44643721.10', '52797118.88', '50601733.01', '58731366.85', '62168553.57'] sst =['160330405.71', '158226165.97', '161336710.61', '166232097.97', '170363307.47', '172222212.36', '172574566.00', '170214207.21', '167667914.33', '168868726.71', '171308981.71', '180882088.86', '182113080.33', '181557442.83']\n"
     ]
    }
   ],
   "source": [
    "rSq, mape, smape, mse, rmse, sse, sst, beats, prediction, y_e = rollingValidate(Tuned_model, True, X, y, -1, 10, 0, 360, 16, True, True, True)\n",
    "print(\"rSq =\"+str(rSq)+ \" mape =\"+str(mape) +\" smape =\"+ str(smape)+\" mse =\"+ str(mse) +\" rmse =\"+ str(rmse)+\" sse =\"+ str(sse)+ \" sst =\"+ str(sst))"
   ]
  },
  {
   "cell_type": "code",
   "execution_count": 19,
   "metadata": {},
   "outputs": [
    {
     "name": "stdout",
     "output_type": "stream",
     "text": [
      "Model: \"sequential_4\"\n",
      "_________________________________________________________________\n",
      "Layer (type)                 Output Shape              Param #   \n",
      "=================================================================\n",
      "gru_12 (GRU)                 (None, 21, 100)           30900     \n",
      "_________________________________________________________________\n",
      "gru_13 (GRU)                 (None, 100)               60600     \n",
      "_________________________________________________________________\n",
      "repeat_vector_8 (RepeatVecto (None, 14, 100)           0         \n",
      "_________________________________________________________________\n",
      "gru_14 (GRU)                 (None, 50)                22800     \n",
      "_________________________________________________________________\n",
      "dense_4 (Dense)              (None, 14)                714       \n",
      "=================================================================\n",
      "Total params: 115,014\n",
      "Trainable params: 115,014\n",
      "Non-trainable params: 0\n",
      "_________________________________________________________________\n"
     ]
    }
   ],
   "source": [
    "#Model before tuning\n",
    "model = Sequential()\n",
    "model.add(GRU(100,activation='relu',input_shape=(steps_in,features)))\n",
    "model.add(RepeatVector(steps_out))\n",
    "model.add(GRU(100, activation='relu'))\n",
    "model.add(RepeatVector(steps_out))\n",
    "model.add(GRU(50, activation='relu'))\n",
    "model.add(Dense(steps_out))\n",
    "model.compile(optimizer='adam',loss='mape')\n",
    "model.summary()"
   ]
  },
  {
   "cell_type": "code",
   "execution_count": 21,
   "metadata": {},
   "outputs": [
    {
     "name": "stdout",
     "output_type": "stream",
     "text": [
      "m = 313, tr_size = 187, te_size = 126, kt = 126, h = 10\n",
      "(126, 21, 1) (126, 14) (187, 21, 1) (187, 14)\n",
      "we are in loop\n"
     ]
    },
    {
     "data": {
      "image/png": "[encoded data removed]",
      "text/plain": [
       "<Figure size 432x216 with 1 Axes>"
      ]
     },
     "metadata": {
      "needs_background": "light"
     },
     "output_type": "display_data"
    },
    {
     "name": "stdout",
     "output_type": "stream",
     "text": [
      "Min Training Loss = 14.694308280944824 at Epoch 266\n",
      "WARNING:tensorflow:5 out of the last 9 calls to <function Model.make_predict_function.<locals>.predict_function at 0x00000298CA925160> triggered tf.function retracing. Tracing is expensive and the excessive number of tracings could be due to (1) creating @tf.function repeatedly in a loop, (2) passing tensors with different shapes, (3) passing Python objects instead of tensors. For (1), please define your @tf.function outside of the loop. For (2), @tf.function has experimental_relax_shapes=True option that relaxes argument shapes that can avoid unnecessary retracing. For (3), please refer to https://www.tensorflow.org/tutorials/customization/performance#python_or_tensor_args and https://www.tensorflow.org/api_docs/python/tf/function for  more details.\n",
      "h=1  ->  smape= 18.00\n",
      "h=2  ->  smape= 18.82\n",
      "h=3  ->  smape= 23.12\n",
      "h=4  ->  smape= 19.66\n",
      "h=5  ->  smape= 19.18\n",
      "h=6  ->  smape= 23.03\n",
      "h=7  ->  smape= 22.08\n",
      "h=8  ->  smape= 25.51\n",
      "h=9  ->  smape= 28.85\n",
      "h=10 ->  smape= 29.44\n",
      "h=11  ->  smape= 26.79\n",
      "h=12  ->  smape= 29.32\n",
      "h=13  ->  smape= 30.23\n",
      "h=14  ->  smape= 34.65\n",
      "rSq =['0.8790', '0.8588', '0.8028', '0.8227', '0.8311', '0.8139', '0.8067', '0.7590', '0.6972', '0.6887', '0.6979', '0.7051', '0.6845', '0.6187'] mape =['17.07', '17.87', '21.02', '18.68', '18.51', '20.74', '20.59', '24.05', '26.08', '25.47', '23.53', '25.08', '25.72', '29.25'] smape =['18.00', '18.82', '23.12', '19.66', '19.18', '23.03', '22.08', '25.51', '28.85', '29.44', '26.79', '29.32', '30.23', '34.65'] mse =['153904.99', '177347.24', '252544.92', '233940.01', '228369.43', '254426.09', '264778.18', '325626.85', '402934.92', '417257.11', '410668.27', '423331.61', '456048.20', '549478.21'] rmse =['392.31', '421.13', '502.54', '483.67', '477.88', '504.41', '514.57', '570.64', '634.77', '645.95', '640.83', '650.64', '675.31', '741.27'] sse =['19392029.28', '22345751.65', '31820660.26', '29476440.89', '28774547.69', '32057686.82', '33362050.81', '41028983.70', '50769800.12', '52574396.20', '51744201.80', '53339782.95', '57462072.93', '69234253.94'] sst =['160330405.71', '158226165.97', '161336710.61', '166232097.97', '170363307.47', '172222212.36', '172574566.00', '170214207.21', '167667914.33', '168868726.71', '171308981.71', '180882088.86', '182113080.33', '181557442.83']\n"
     ]
    }
   ],
   "source": [
    "rSq, mape, smape, mse, rmse, sse, sst, beats, prediction, y_e = rollingValidate(model, True, X, y, -1, 10, 0, 350, 16, True, True, True)\n",
    "print(\"rSq =\"+str(rSq)+ \" mape =\"+str(mape) +\" smape =\"+ str(smape)+\" mse =\"+ str(mse) +\" rmse =\"+ str(rmse)+\" sse =\"+ str(sse)+ \" sst =\"+ str(sst))"
   ]
  },
  {
   "cell_type": "code",
   "execution_count": 7,
   "metadata": {},
   "outputs": [],
   "source": [
    "def train50(X,y):\n",
    "    TR_RATIO = 0.5\n",
    "    m = y.shape[0]\n",
    "    tr_size = int(m * TR_RATIO)\n",
    "    te_size = int(m - tr_size)\n",
    "    te = int(tr_size)\n",
    "   # if kt < 0: kt = te_size\n",
    "    #print(\"m = \"+str(m)+\", tr_size = \"+str(tr_size)+\", te_size = \"+str(te_size))\n",
    "    \n",
    "    (x_e, y_e, x_r, y_r) = chopr (X, y, te, te_size, tr_size)\n",
    "    return x_e, y_e, x_r, y_r"
   ]
  },
  {
   "cell_type": "code",
   "execution_count": 8,
   "metadata": {},
   "outputs": [],
   "source": [
    "def plotHistory(fit_history,ls=\"MAPE\"):\n",
    "    #Get training loss\n",
    "    loss = fit_history.history['loss']\n",
    "    # val_loss = fit_history.history['val_loss']\n",
    "\n",
    "    # Create count of the number of epochs\n",
    "    epoch_count = range(1, len(loss) + 1)\n",
    "\n",
    "#     # Visualize loss history - Plotting Loss vs Number of Epochs during training\n",
    "    plt.figure(num=0,figsize=(6,3))\n",
    "    plt.plot(epoch_count, loss)\n",
    "    # plt.plot(val_loss)\n",
    "    plt.legend(['Training Loss - '+str(ls), 'Validation Loss - '+str(ls)])\n",
    "    plt.xlabel('Epochs')\n",
    "    plt.ylabel(ls)\n",
    "    plt.title(\"Loss vs Epochs\")\n",
    "    plt.show()\n",
    "\n",
    "#     print(\"_________________________________________________________________________________________\")\n",
    "    print(\"Min Training Loss = \" + str(np.min(loss)) + \" \",end='')\n",
    "    print(\"at Epoch \" + str(np.argmin(loss) + 1))\n",
    "    # print(\"Min Validation Loss = \" + str(np.min(val_loss)) + \" \",end='')\n",
    "    # print(\"at Epoch \" + str(np.argmin(val_loss) + 1))\n",
    "#     print(\"__________________________________________________________________________________________\")"
   ]
  },
  {
   "cell_type": "code",
   "execution_count": 9,
   "metadata": {},
   "outputs": [],
   "source": [
    "def eval(y,yp):\n",
    "    # print(y)\n",
    "    # print(yp)\n",
    "    import math\n",
    "    roundTo = 5\n",
    "    m = y.shape[0]\n",
    "    # print(m)\n",
    "    e = np.array(y - yp)\n",
    "\n",
    "    # print(\"m\")\n",
    "    # print(e)\n",
    "    yt = np.array(y - y.mean())\n",
    "    sse = e.dot(e)\n",
    "    sst = yt.dot(yt)\n",
    "    rSq = round((1 - ((sse)/(sst))),roundTo)\n",
    "    mape = round(((np.absolute(e)/np.absolute(y)).sum())*100/m,roundTo)\n",
    "    t = (np.absolute(e)/(np.absolute(y)+np.absolute(yp)))\n",
    "    #print(t.sum()*200/m)\n",
    "    smape = round(((np.absolute(e)/(np.absolute(y)+np.absolute(yp))).sum())*200/m,roundTo)\n",
    "    # smape  = 200 * (e.abs / (yy.abs + yp.abs)).sum / m\n",
    "    mse = round((sse/m),roundTo)\n",
    "    rmse = round(math.sqrt(mse),roundTo)\n",
    "#     return(rSq,mape,mse,rmse,sse,sst)\n",
    "    return(format(rSq,'.4f'),format(mape,'.2f'),format(smape,'.2f'),format(mse,'.2f'),format(rmse,'.2f'),format(sse,'.2f'),format(sst,'.2f'))"
   ]
  },
  {
   "cell_type": "code",
   "execution_count": 10,
   "metadata": {},
   "outputs": [],
   "source": [
    "def rollingValidate(model, train, x, y, kt, h, callbk, nEpoch, nBatch, plot, p1, p2):\n",
    "    TR_RATIO = 0.6\n",
    "    m = y.shape[0]\n",
    "    tr_size = int(m * TR_RATIO)\n",
    "    te_size = int(m - tr_size)\n",
    "    te = int(tr_size)\n",
    "    if kt < 0: kt = te_size\n",
    "    print(\"m = \"+str(m)+\", tr_size = \"+str(tr_size)+\", te_size = \"+str(te_size)+\", kt = \"+str(kt)+\", h = \"+str(h))\n",
    "    \n",
    "    (x_e, y_e, x_r, y_r) = chopr (x, y, te, te_size, tr_size)\n",
    "    print(x_e.shape, y_e.shape, x_r.shape, y_r.shape)\n",
    "    # print(type(y_r))\n",
    "    # print(y_r.index)\n",
    "    \n",
    "    # print(type(y_e))\n",
    "    # print(y_e.index)\n",
    "    #print(y_e.shape)\n",
    "    #y_e = np.array(y_e)\n",
    "    #print(y_e)\n",
    "   # smapearr = [x for x in range(10,24)]\n",
    "   # for h in range(1,15):\n",
    "   #     yr =  y_r[h-1]\n",
    "   #     inp = y_e[h-1].tolist()\n",
    "   #     yrw = inp[:-h]\n",
    "       \n",
    "   #     for i in range(h):\n",
    "   #         yrw.insert(i,inp[i])\n",
    "   #     yrw = np.array(yrw)\n",
    "   #     rSqr, maper, smaper, mser, rmser, sser, sstr = eval(y_e[h-1],yrw)\n",
    "   #     smapearr[h-1] = smaper\n",
    "#     x_r = x_r[1000:]\n",
    "#     y_r = y_r[1000:]\n",
    "#     print(\"Training shape\"+str(x_r.shape))\n",
    "#     print(\"Training shape\"+str(y_r.shape))\n",
    "#     print(\"Testing shape\"+str(x_e.shape))\n",
    "#     print(\"Testing shape\"+str(y_e.shape))\n",
    "    rt = 0\n",
    "#     print(\"number of re-trainings required = \"+str(int((te_size/kt)+1)))\n",
    "    for i in range(y_e.shape[0]):\n",
    "        if i%kt == 0:\n",
    "            rt = rt + 1\n",
    "            if i > 0:\n",
    "                x_r, y_r = shift_rm((x_r,y_r),((x_e.iloc[i-kt:i], y_e.iloc[i-kt:i])))\n",
    "            if train:\n",
    "                if callbk==1:\n",
    "                    callb = callbacks.EarlyStopping(monitor='loss', restore_best_weights=True, patience=20,verbose=1)\n",
    "                else: callb = None\n",
    "                print(\"we are in loop\")\n",
    "                fit_history = model.fit(x_r, y_r,validation_split=0.10,shuffle=True,epochs=nEpoch, \\\n",
    "                                        batch_size=nBatch,verbose=0, callbacks=callb) #callbacks=[tfa.callbacks.TQDMProgressBar(leave_epoch_progress=False,show_epoch_progress=False)]  workers=10, use_multiprocessing=True,\n",
    "            if plot: plotHistory(fit_history)\n",
    "#     print(\"\\nOut-Sample Results\")\n",
    "#    rw = np.array([2.47,3.79,4.6,5.23,5.75,6.18,6.61,6.94,7.29,7.70]) #RW results - mape for 50% TR\n",
    "#    rw = np.array([float(x) for x in smapearr]) #calculated using python\n",
    "    beats = []\n",
    "    \n",
    "    prediction = model.predict(x_e,batch_size=100)\n",
    "    rSq  = [x for x in range(14)]\n",
    "    mse  = [x for x in range(14)]\n",
    "    sse  = [x for x in range(14)]\n",
    "    sst  = [x for x in range(14)]\n",
    "    rmse = [x for x in range(14)]\n",
    "    mape = [x for x in range(14)]\n",
    "    smape = [x for x in range(14)]\n",
    "    maxdif = 0\n",
    "    maxdifh = 0\n",
    "\n",
    "    for h in range(1,15):\n",
    "        yf = prediction[:,h-1]\n",
    "        rSq[h-1], mape[h-1], smape[h-1], mse[h-1], rmse[h-1], sse[h-1], sst[h-1] = eval(y_e[:,h-1],yf)\n",
    "       # diff = (rw[h-1] - float(mape[h-1]))\n",
    "        #if rw[h-1] >= float(mape[h-1]): beats.append(h)\n",
    "        #if diff > maxdif:\n",
    "        #    maxdif = diff\n",
    "        #    maxdifh = h\n",
    "        if p1:\n",
    "            if h != 10:print(\"h=\"+str(h)+\"  -> \"+\" smape= \"+str(smape[h-1]))     #\" sse = \"+str(sse[h-1]) +\n",
    "            else:print(\"h=\"+str(h)+\" -> \"+\" smape= \"+str(smape[h-1]))            #\" sse = \"+str(sse[h-1]) +\n",
    "#             if h != 10: print(\"h=\"+str(h)+\"  -> \"+\"rsq = \"+str(rSq[h-1])+\" mape = \"+str(mape[h-1])+\",\"+str(format(rw[h-1],'.2f'))+\" mse = \"+str(mse[h-1])+\" rmse = \"+str(rmse[h-1]) +\" sst = \"+str(sst[h-1])) #\" sse = \"+str(sse[h-1]) +\n",
    "#             else: print(\"h=\"+str(h)+\" -> \"+\"rsq = \"+str(rSq[h-1])+\" mape = \"+str(mape[h-1])+\",\"+str(format(rw[h-1],'.2f'))+\" mse = \"+str(mse[h-1])+\" rmse = \"+str(rmse[h-1]) +\" sst = \"+str(sst[h-1])) #\" sse = \"+str(sse[h-1]) +\n",
    "#         print(\"h=\"+str(h)+\" -> \"+\" mape = \"+str(mape)+\",\"+str(rw[h-1])+\" rsq = \"+str(rSq))\n",
    "    #if p2: \n",
    "        #print(\"Beats RW at \"+str(len(beats))+\" values of h=\"+str(beats))\n",
    "        #print(\"Max difference = \"+str(maxdif)+\" at horizon h=\"+str(maxdifh))\n",
    "    return (rSq, mape, smape, mse, rmse, sse, sst, beats, prediction, y_e)"
   ]
  },
  {
   "cell_type": "code",
   "execution_count": 11,
   "metadata": {},
   "outputs": [],
   "source": [
    "def chopr(x,y,te,te_size,tr_size):\n",
    "    te2 = te + te_size\n",
    "    tr = te - tr_size\n",
    "#     print(\"te=\"+str(te))\n",
    "#     print(\"te_size=\"+str(te_size))\n",
    "#     print(\"tr_size=\"+str(tr_size))\n",
    "    x_e = x[te:te2]\n",
    "    y_e = y[te:te2]\n",
    "    x_r = x[tr:te]\n",
    "    y_r = y[tr:te]\n",
    "    \n",
    "#     print(\"test: x_e(\"+str(te)+\" .. \"+str(te2-1)+\")\")\n",
    "#     print(\"test: y_e(\"+str(te)+\" .. \"+str(te2-1)+\")\")\n",
    "#     print(\"train: x_r(\"+str(tr)+\" .. \"+str(te-1)+\")\")\n",
    "#     print(\"train: y_r(\"+str(tr)+\" .. \"+str(te-1)+\")\")\n",
    "    return(x_e, y_e, x_r, y_r)"
   ]
  },
  {
   "cell_type": "code",
   "execution_count": 63,
   "metadata": {},
   "outputs": [
    {
     "name": "stdout",
     "output_type": "stream",
     "text": [
      "[1, 2, 3, 4, 1, 2, 3, 4, 1, 2, 3, 4, 4, 3, 2, 1, 4, 3, 2, 1, 4, 3, 2, 1]\n"
     ]
    }
   ],
   "source": [
    "xa,ya,xb,yb=train50(X,y)\n",
    "print(xa.shape,ya.shape, xb.shape, yb.shape)\n",
    "model.fit(xb,yb, epochs=500, batch_size=20,verbose=0)\n",
    "data=xa[1]\n",
    "pa=model.predict(data.reshape(1,7,1))\n",
    "pb=model.predict(pa.reshape(1,7,1))\n",
    "yc=np.append(ya[1],ya[2])\n",
    "#yc=list(chain(*yc))\n",
    "yc=yc.reshape(1,14)\n",
    "yd=np.append(pa,pb)\n",
    "#yd=list(chain(*yd))\n",
    "yd=yd.reshape(1,14)\n",
    "for h in range(1,15):\n",
    "    rSq, mape, smape, mse, rmse, sse, sst = eval(yc[:,h-1],yd[:,h-1])\n",
    "    print(yc[:,h-1], yd[:,h-1])\n",
    "    print((\"h=\"+str(h)+\"  -> \"+\"rsq = \"+str(rSq)+\" mape = \"+str(mape)+\" smape = \"+str(smape)+\" mse = \"+str(mse)+\" rmse = \"+str(rmse) +\" sse = \"+str(sse) +\" sst = \"+str(sst),\"h=\"+str(h)+\" -> \"+\"rsq = \"+str(rSq)+\" mape = \"+str(mape)+\" smape = \"+str(smape)+\" mse = \"+str(mse)+\" rmse = \"+str(rmse) +\" sse = \"+str(sse) +\" sst = \"+str(sst))[h >= 10])\n",
    "\n"
   ]
  },
  {
   "cell_type": "code",
   "execution_count": null,
   "metadata": {},
   "outputs": [],
   "source": []
  }
 ],
 "metadata": {
  "kernelspec": {
   "display_name": "Python 3",
   "language": "python",
   "name": "python3"
  },
  "language_info": {
   "codemirror_mode": {
    "name": "ipython",
    "version": 3
   },
   "file_extension": ".py",
   "mimetype": "text/x-python",
   "name": "python",
   "nbconvert_exporter": "python",
   "pygments_lexer": "ipython3",
   "version": "3.8.5"
  }
 },
 "nbformat": 4,
 "nbformat_minor": 2
}
