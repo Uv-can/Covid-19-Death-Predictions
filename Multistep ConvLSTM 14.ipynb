{
 "cells": [
  {
   "cell_type": "code",
   "execution_count": 1,
   "metadata": {},
   "outputs": [],
   "source": [
    "import pandas as pd\n",
    "import numpy as np\n",
    "from numpy import array\n",
    "from pandas import read_csv\n",
    "from matplotlib import pyplot\n",
    "from keras.models import Sequential\n",
    "from keras.layers import LSTM\n",
    "from keras.layers import Dense\n",
    "from keras.layers import GRU\n",
    "from keras.layers import Flatten\n",
    "from keras.layers import Dropout\n",
    "from keras.layers import RepeatVector\n",
    "from keras.layers import TimeDistributed\n",
    "from keras.layers.convolutional import Conv1D\n",
    "from keras.layers.convolutional import MaxPooling1D\n",
    "from matplotlib import pyplot as plt\n",
    "from itertools import chain"
   ]
  },
  {
   "cell_type": "code",
   "execution_count": 2,
   "metadata": {},
   "outputs": [],
   "source": [
    "df = pd.read_csv('https://raw.githubusercontent.com/scalation/data/master/COVID/CLEANED_35.csv')\n",
    "date = df['date'].tail(391-44)\n",
    "deaths = df['deathIncrease'].tail(391-44)\n",
    "sequence=list(deaths)"
   ]
  },
  {
   "cell_type": "code",
   "execution_count": 3,
   "metadata": {},
   "outputs": [],
   "source": [
    "def split_sequence(data,steps_in,steps_out):\n",
    "    X,y=list(),list()\n",
    "    for i in range(len(data)):\n",
    "        seq_end=i+steps_in\n",
    "        end_out=seq_end+steps_out\n",
    "        if end_out > len(data):\n",
    "            break\n",
    "        seq_x, seq_y=data[i:seq_end], data[seq_end:end_out]\n",
    "        X.append(seq_x)\n",
    "        y.append(seq_y)\n",
    "    return array(X),array(y)"
   ]
  },
  {
   "cell_type": "code",
   "execution_count": 4,
   "metadata": {},
   "outputs": [],
   "source": [
    "steps_in, steps_out = 21 , 14\n",
    "X, y=split_sequence(sequence,steps_in,steps_out)"
   ]
  },
  {
   "cell_type": "code",
   "execution_count": 5,
   "metadata": {},
   "outputs": [
    {
     "name": "stdout",
     "output_type": "stream",
     "text": [
      "(286, 21, 1) (286, 14)\n"
     ]
    }
   ],
   "source": [
    "features=1\n",
    "X=X.reshape(X.shape[0],X.shape[1],features)\n",
    "print(X.shape, y.shape)"
   ]
  },
  {
   "cell_type": "code",
   "execution_count": 15,
   "metadata": {},
   "outputs": [
    {
     "name": "stdout",
     "output_type": "stream",
     "text": [
      "Model: \"sequential_2\"\n",
      "_________________________________________________________________\n",
      "Layer (type)                 Output Shape              Param #   \n",
      "=================================================================\n",
      "conv1d_2 (Conv1D)            (None, 20, 64)            192       \n",
      "_________________________________________________________________\n",
      "max_pooling1d_2 (MaxPooling1 (None, 10, 64)            0         \n",
      "_________________________________________________________________\n",
      "flatten_2 (Flatten)          (None, 640)               0         \n",
      "_________________________________________________________________\n",
      "repeat_vector_4 (RepeatVecto (None, 14, 640)           0         \n",
      "_________________________________________________________________\n",
      "lstm_4 (LSTM)                (None, 100)               296400    \n",
      "_________________________________________________________________\n",
      "repeat_vector_5 (RepeatVecto (None, 14, 100)           0         \n",
      "_________________________________________________________________\n",
      "lstm_5 (LSTM)                (None, 100)               80400     \n",
      "_________________________________________________________________\n",
      "dense_2 (Dense)              (None, 14)                1414      \n",
      "=================================================================\n",
      "Total params: 378,406\n",
      "Trainable params: 378,406\n",
      "Non-trainable params: 0\n",
      "_________________________________________________________________\n"
     ]
    }
   ],
   "source": [
    "Tuned_model = Sequential()\n",
    "Tuned_model.add(Conv1D(filters=64, kernel_size=2, activation='relu', input_shape=(steps_in, features)))\n",
    "Tuned_model.add(MaxPooling1D(pool_size=2))\n",
    "Tuned_model.add(Flatten())\n",
    "Tuned_model.add(RepeatVector(steps_out))\n",
    "Tuned_model.add(LSTM(100,activation='relu'))\n",
    "Tuned_model.add(RepeatVector(steps_out))\n",
    "Tuned_model.add(LSTM(100, activation='relu'))\n",
    "Tuned_model.add(Dense(steps_out))\n",
    "Tuned_model.compile(optimizer='adam',loss='mape')\n",
    "Tuned_model.summary()"
   ]
  },
  {
   "cell_type": "code",
   "execution_count": 17,
   "metadata": {},
   "outputs": [
    {
     "name": "stdout",
     "output_type": "stream",
     "text": [
      "m = 286, tr_size = 143, te_size = 143, kt = 143, h = 10\n",
      "(143, 21, 1) (143, 14) (143, 21, 1) (143, 14)\n"
     ]
    },
    {
     "data": {
      "image/png": "[encoded data removed]",
      "text/plain": [
       "<Figure size 432x216 with 1 Axes>"
      ]
     },
     "metadata": {
      "needs_background": "light"
     },
     "output_type": "display_data"
    },
    {
     "name": "stdout",
     "output_type": "stream",
     "text": [
      "Min Training Loss = 29.319698333740234 at Epoch 138\n",
      "34.3929846343282\n",
      "h=1  ->  smape= 34.39\n",
      "35.346503811193585\n",
      "h=2  ->  smape= 35.35\n",
      "42.875723055276616\n",
      "h=3  ->  smape= 42.88\n",
      "39.33956144352585\n",
      "h=4  ->  smape= 39.34\n",
      "26.46202216831438\n",
      "h=5  ->  smape= 26.46\n",
      "25.87648232599798\n",
      "h=6  ->  smape= 25.88\n",
      "35.01525512340486\n",
      "h=7  ->  smape= 35.02\n",
      "39.85943532177956\n",
      "h=8  ->  smape= 39.86\n",
      "39.84576866270302\n",
      "h=9  ->  smape= 39.85\n",
      "48.07700465515747\n",
      "h=10 ->  smape= 48.08\n",
      "44.90720296235921\n",
      "h=11  ->  smape= 44.91\n",
      "35.17909353019677\n",
      "h=12  ->  smape= 35.18\n",
      "36.837596629256495\n",
      "h=13  ->  smape= 36.84\n",
      "43.7208133937285\n",
      "h=14  ->  smape= 43.72\n",
      "rSq =['0.6202', '0.5617', '0.4166', '0.5296', '0.7559', '0.7379', '0.5370', '0.4441', '0.3910', '0.2705', '0.3446', '0.5058', '0.4731', '0.3089'] mape =['34.52', '36.68', '43.95', '42.68', '29.38', '27.38', '34.90', '36.83', '35.89', '44.80', '43.36', '31.92', '33.29', '37.63'] smape =['34.39', '35.35', '42.88', '39.34', '26.46', '25.88', '35.02', '39.86', '39.85', '48.08', '44.91', '35.18', '36.84', '43.72'] mse =['262583.78', '306738.79', '408370.60', '329483.21', '179131.33', '203626.25', '381221.91', '480304.22', '545977.51', '655985.94', '589442.70', '468347.73', '522649.37', '708678.30'] rmse =['512.43', '553.84', '639.04', '574.01', '423.24', '451.25', '617.43', '693.04', '738.90', '809.93', '767.75', '684.36', '722.94', '841.83'] sse =['37549480.68', '43863647.18', '58396996.31', '47116098.60', '25615780.10', '29118553.39', '54514732.75', '68683503.26', '78074784.13', '93805989.18', '84290306.28', '66973724.97', '74738859.50', '101340997.55'] sst =['98880224.98', '100086193.89', '100098833.61', '100161107.61', '104932342.48', '111118709.61', '117741629.89', '123543824.28', '128192746.99', '128581742.52', '128617603.55', '135523511.73', '141838713.55', '146633821.89']\n"
     ]
    }
   ],
   "source": [
    "rSq, mape, smape, mse, rmse, sse, sst, beats, prediction, y_e = rollingValidate(Tuned_model, True, X, y, -1, 10, 0, 500, 16, True, True, True)\n",
    "print(\"rSq =\"+str(rSq)+ \" mape =\"+str(mape) +\" smape =\"+ str(smape)+\" mse =\"+ str(mse) +\" rmse =\"+ str(rmse)+\" sse =\"+ str(sse)+ \" sst =\"+ str(sst))"
   ]
  },
  {
   "cell_type": "code",
   "execution_count": 7,
   "metadata": {},
   "outputs": [],
   "source": [
    "def train50(X,y):\n",
    "    TR_RATIO = 0.5\n",
    "    m = y.shape[0]\n",
    "    tr_size = int(m * TR_RATIO)\n",
    "    te_size = int(m - tr_size)\n",
    "    te = int(tr_size)\n",
    "   # if kt < 0: kt = te_size\n",
    "    #print(\"m = \"+str(m)+\", tr_size = \"+str(tr_size)+\", te_size = \"+str(te_size))\n",
    "    \n",
    "    (x_e, y_e, x_r, y_r) = chopr (X, y, te, te_size, tr_size)\n",
    "    return x_e, y_e, x_r, y_r"
   ]
  },
  {
   "cell_type": "code",
   "execution_count": 8,
   "metadata": {},
   "outputs": [],
   "source": [
    "def plotHistory(fit_history,ls=\"MAPE\"):\n",
    "    #Get training loss\n",
    "    loss = fit_history.history['loss']\n",
    "    # val_loss = fit_history.history['val_loss']\n",
    "\n",
    "    # Create count of the number of epochs\n",
    "    epoch_count = range(1, len(loss) + 1)\n",
    "\n",
    "#     # Visualize loss history - Plotting Loss vs Number of Epochs during training\n",
    "    plt.figure(num=0,figsize=(6,3))\n",
    "    plt.plot(epoch_count, loss)\n",
    "    # plt.plot(val_loss)\n",
    "    plt.legend(['Training Loss - '+str(ls), 'Validation Loss - '+str(ls)])\n",
    "    plt.xlabel('Epochs')\n",
    "    plt.ylabel(ls)\n",
    "    plt.title(\"Loss vs Epochs\")\n",
    "    plt.show()\n",
    "\n",
    "#     print(\"_________________________________________________________________________________________\")\n",
    "    print(\"Min Training Loss = \" + str(np.min(loss)) + \" \",end='')\n",
    "    print(\"at Epoch \" + str(np.argmin(loss) + 1))\n",
    "    # print(\"Min Validation Loss = \" + str(np.min(val_loss)) + \" \",end='')\n",
    "    # print(\"at Epoch \" + str(np.argmin(val_loss) + 1))\n",
    "#     print(\"__________________________________________________________________________________________\")"
   ]
  },
  {
   "cell_type": "code",
   "execution_count": 9,
   "metadata": {},
   "outputs": [],
   "source": [
    "def eval(y,yp):\n",
    "    # print(y)\n",
    "    # print(yp)\n",
    "    import math\n",
    "    roundTo = 5\n",
    "    m = y.shape[0]\n",
    "    # print(m)\n",
    "    e = np.array(y - yp)\n",
    "\n",
    "    # print(\"m\")\n",
    "    # print(e)\n",
    "    yt = np.array(y - y.mean())\n",
    "    sse = e.dot(e)\n",
    "    sst = yt.dot(yt)\n",
    "    rSq = round((1 - ((sse)/(sst))),roundTo)\n",
    "    mape = round(((np.absolute(e)/np.absolute(y)).sum())*100/m,roundTo)\n",
    "    t = (np.absolute(e)/(np.absolute(y)+np.absolute(yp)))\n",
    "    print(t.sum()*200/m)\n",
    "    smape = round(((np.absolute(e)/(np.absolute(y)+np.absolute(yp))).sum())*200/m,roundTo)\n",
    "    # smape  = 200 * (e.abs / (yy.abs + yp.abs)).sum / m\n",
    "    mse = round((sse/m),roundTo)\n",
    "    rmse = round(math.sqrt(mse),roundTo)\n",
    "#     return(rSq,mape,mse,rmse,sse,sst)\n",
    "    return(format(rSq,'.4f'),format(mape,'.2f'),format(smape,'.2f'),format(mse,'.2f'),format(rmse,'.2f'),format(sse,'.2f'),format(sst,'.2f'))"
   ]
  },
  {
   "cell_type": "code",
   "execution_count": 10,
   "metadata": {},
   "outputs": [],
   "source": [
    "def rollingValidate(model, train, x, y, kt, h, callbk, nEpoch, nBatch, plot, p1, p2):\n",
    "    TR_RATIO = 0.5\n",
    "    m = y.shape[0]\n",
    "    tr_size = int(m * TR_RATIO)\n",
    "    te_size = int(m - tr_size)\n",
    "    te = int(tr_size)\n",
    "    if kt < 0: kt = te_size\n",
    "    print(\"m = \"+str(m)+\", tr_size = \"+str(tr_size)+\", te_size = \"+str(te_size)+\", kt = \"+str(kt)+\", h = \"+str(h))\n",
    "    \n",
    "    (x_e, y_e, x_r, y_r) = chopr (x, y, te, te_size, tr_size)\n",
    "    print(x_e.shape, y_e.shape, x_r.shape, y_r.shape)\n",
    "    # print(type(y_r))\n",
    "    # print(y_r.index)\n",
    "    \n",
    "    # print(type(y_e))\n",
    "    # print(y_e.index)\n",
    "    #print(y_e.shape)\n",
    "    #y_e = np.array(y_e)\n",
    "    #print(y_e)\n",
    "   # smapearr = [x for x in range(10,24)]\n",
    "   # for h in range(1,15):\n",
    "   #     yr =  y_r[h-1]\n",
    "   #     inp = y_e[h-1].tolist()\n",
    "   #     yrw = inp[:-h]\n",
    "       \n",
    "   #     for i in range(h):\n",
    "   #         yrw.insert(i,inp[i])\n",
    "   #     yrw = np.array(yrw)\n",
    "   #     rSqr, maper, smaper, mser, rmser, sser, sstr = eval(y_e[h-1],yrw)\n",
    "   #     smapearr[h-1] = smaper\n",
    "#     x_r = x_r[1000:]\n",
    "#     y_r = y_r[1000:]\n",
    "#     print(\"Training shape\"+str(x_r.shape))\n",
    "#     print(\"Training shape\"+str(y_r.shape))\n",
    "#     print(\"Testing shape\"+str(x_e.shape))\n",
    "#     print(\"Testing shape\"+str(y_e.shape))\n",
    "    rt = 0\n",
    "#     print(\"number of re-trainings required = \"+str(int((te_size/kt)+1)))\n",
    "    for i in range(y_e.shape[0]):\n",
    "        if i%kt == 0:\n",
    "            rt = rt + 1\n",
    "            if i > 0:\n",
    "                x_r, y_r = shift_rm((x_r,y_r),((x_e.iloc[i-kt:i], y_e.iloc[i-kt:i])))\n",
    "            if train:\n",
    "                if callbk==1:\n",
    "                    callb = callbacks.EarlyStopping(monitor='loss', restore_best_weights=True, patience=20,verbose=1)\n",
    "                else: callb = None\n",
    "             \n",
    "                fit_history = model.fit(x_r, y_r,validation_split=0.10,shuffle=True,epochs=nEpoch, \\\n",
    "                                        batch_size=nBatch,verbose=0, callbacks=callb) #callbacks=[tfa.callbacks.TQDMProgressBar(leave_epoch_progress=False,show_epoch_progress=False)]  workers=10, use_multiprocessing=True,\n",
    "            if plot: plotHistory(fit_history)\n",
    "#     print(\"\\nOut-Sample Results\")\n",
    "#    rw = np.array([2.47,3.79,4.6,5.23,5.75,6.18,6.61,6.94,7.29,7.70]) #RW results - mape for 50% TR\n",
    "#    rw = np.array([float(x) for x in smapearr]) #calculated using python\n",
    "    beats = []\n",
    "    \n",
    "    prediction = model.predict(x_e,batch_size=100)\n",
    "    rSq  = [x for x in range(14)]\n",
    "    mse  = [x for x in range(14)]\n",
    "    sse  = [x for x in range(14)]\n",
    "    sst  = [x for x in range(14)]\n",
    "    rmse = [x for x in range(14)]\n",
    "    mape = [x for x in range(14)]\n",
    "    smape = [x for x in range(14)]\n",
    "    maxdif = 0\n",
    "    maxdifh = 0\n",
    "\n",
    "    for h in range(1,15):\n",
    "        yf = prediction[:,h-1]\n",
    "        rSq[h-1], mape[h-1], smape[h-1], mse[h-1], rmse[h-1], sse[h-1], sst[h-1] = eval(y_e[:,h-1],yf)\n",
    "       # diff = (rw[h-1] - float(mape[h-1]))\n",
    "        #if rw[h-1] >= float(mape[h-1]): beats.append(h)\n",
    "        #if diff > maxdif:\n",
    "        #    maxdif = diff\n",
    "        #    maxdifh = h\n",
    "        if p1:\n",
    "            if h != 10:print(\"h=\"+str(h)+\"  -> \"+\" smape= \"+str(smape[h-1]))     #\" sse = \"+str(sse[h-1]) +\n",
    "            else:print(\"h=\"+str(h)+\" -> \"+\" smape= \"+str(smape[h-1]))            #\" sse = \"+str(sse[h-1]) +\n",
    "#             if h != 10: print(\"h=\"+str(h)+\"  -> \"+\"rsq = \"+str(rSq[h-1])+\" mape = \"+str(mape[h-1])+\",\"+str(format(rw[h-1],'.2f'))+\" mse = \"+str(mse[h-1])+\" rmse = \"+str(rmse[h-1]) +\" sst = \"+str(sst[h-1])) #\" sse = \"+str(sse[h-1]) +\n",
    "#             else: print(\"h=\"+str(h)+\" -> \"+\"rsq = \"+str(rSq[h-1])+\" mape = \"+str(mape[h-1])+\",\"+str(format(rw[h-1],'.2f'))+\" mse = \"+str(mse[h-1])+\" rmse = \"+str(rmse[h-1]) +\" sst = \"+str(sst[h-1])) #\" sse = \"+str(sse[h-1]) +\n",
    "#         print(\"h=\"+str(h)+\" -> \"+\" mape = \"+str(mape)+\",\"+str(rw[h-1])+\" rsq = \"+str(rSq))\n",
    "    #if p2: \n",
    "        #print(\"Beats RW at \"+str(len(beats))+\" values of h=\"+str(beats))\n",
    "        #print(\"Max difference = \"+str(maxdif)+\" at horizon h=\"+str(maxdifh))\n",
    "    return (rSq, mape, smape, mse, rmse, sse, sst, beats, prediction, y_e)"
   ]
  },
  {
   "cell_type": "code",
   "execution_count": 11,
   "metadata": {},
   "outputs": [],
   "source": [
    "def chopr(x,y,te,te_size,tr_size):\n",
    "    te2 = te + te_size\n",
    "    tr = te - tr_size\n",
    "#     print(\"te=\"+str(te))\n",
    "#     print(\"te_size=\"+str(te_size))\n",
    "#     print(\"tr_size=\"+str(tr_size))\n",
    "    x_e = x[te:te2]\n",
    "    y_e = y[te:te2]\n",
    "    x_r = x[tr:te]\n",
    "    y_r = y[tr:te]\n",
    "    \n",
    "#     print(\"test: x_e(\"+str(te)+\" .. \"+str(te2-1)+\")\")\n",
    "#     print(\"test: y_e(\"+str(te)+\" .. \"+str(te2-1)+\")\")\n",
    "#     print(\"train: x_r(\"+str(tr)+\" .. \"+str(te-1)+\")\")\n",
    "#     print(\"train: y_r(\"+str(tr)+\" .. \"+str(te-1)+\")\")\n",
    "    return(x_e, y_e, x_r, y_r)"
   ]
  },
  {
   "cell_type": "code",
   "execution_count": 63,
   "metadata": {},
   "outputs": [
    {
     "name": "stdout",
     "output_type": "stream",
     "text": [
      "[1, 2, 3, 4, 1, 2, 3, 4, 1, 2, 3, 4, 4, 3, 2, 1, 4, 3, 2, 1, 4, 3, 2, 1]\n"
     ]
    }
   ],
   "source": []
  },
  {
   "cell_type": "code",
   "execution_count": null,
   "metadata": {},
   "outputs": [],
   "source": []
  }
 ],
 "metadata": {
  "kernelspec": {
   "display_name": "Python 3",
   "language": "python",
   "name": "python3"
  },
  "language_info": {
   "codemirror_mode": {
    "name": "ipython",
    "version": 3
   },
   "file_extension": ".py",
   "mimetype": "text/x-python",
   "name": "python",
   "nbconvert_exporter": "python",
   "pygments_lexer": "ipython3",
   "version": "3.8.5"
  }
 },
 "nbformat": 4,
 "nbformat_minor": 2
}
