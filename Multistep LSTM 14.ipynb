{
 "cells": [
  {
   "cell_type": "code",
   "execution_count": 1,
   "metadata": {},
   "outputs": [],
   "source": [
    "import pandas as pd\n",
    "import numpy as np\n",
    "from numpy import array\n",
    "from pandas import read_csv\n",
    "from matplotlib import pyplot\n",
    "from keras.models import Sequential\n",
    "from keras.layers import LSTM\n",
    "from keras.layers import Dense\n",
    "from keras.layers import Flatten\n",
    "from keras.layers import Dropout\n",
    "from keras.layers import RepeatVector\n",
    "from keras.layers.convolutional import Conv1D\n",
    "from keras.layers.convolutional import MaxPooling1D\n",
    "from matplotlib import pyplot as plt\n",
    "from itertools import chain"
   ]
  },
  {
   "cell_type": "code",
   "execution_count": 2,
   "metadata": {},
   "outputs": [],
   "source": [
    "df = pd.read_csv('https://raw.githubusercontent.com/scalation/data/master/COVID/CLEANED_35.csv')\n",
    "date = df['date'].tail(391-44)\n",
    "deaths = df['deathIncrease'].tail(391-44)\n",
    "sequence=list(deaths)"
   ]
  },
  {
   "cell_type": "code",
   "execution_count": 3,
   "metadata": {},
   "outputs": [],
   "source": [
    "def split_sequence(data,steps_in,steps_out):\n",
    "    X,y=list(),list()\n",
    "    for i in range(len(data)):\n",
    "        seq_end=i+steps_in\n",
    "        end_out=seq_end+steps_out\n",
    "        if end_out > len(data):\n",
    "            break\n",
    "        seq_x, seq_y=data[i:seq_end], data[seq_end:end_out]\n",
    "        X.append(seq_x)\n",
    "        y.append(seq_y)\n",
    "    return array(X),array(y)"
   ]
  },
  {
   "cell_type": "code",
   "execution_count": 4,
   "metadata": {},
   "outputs": [],
   "source": [
    "steps_in, steps_out = 21 , 14\n",
    "X, y=split_sequence(sequence,steps_in,steps_out)"
   ]
  },
  {
   "cell_type": "code",
   "execution_count": 5,
   "metadata": {},
   "outputs": [
    {
     "name": "stdout",
     "output_type": "stream",
     "text": [
      "(313, 21, 1) (313, 14)\n"
     ]
    }
   ],
   "source": [
    "features=1\n",
    "X=X.reshape(X.shape[0],X.shape[1],features)\n",
    "print(X.shape, y.shape)"
   ]
  },
  {
   "cell_type": "code",
   "execution_count": 19,
   "metadata": {
    "scrolled": true
   },
   "outputs": [
    {
     "name": "stdout",
     "output_type": "stream",
     "text": [
      "Model: \"sequential_4\"\n",
      "_________________________________________________________________\n",
      "Layer (type)                 Output Shape              Param #   \n",
      "=================================================================\n",
      "lstm_12 (LSTM)               (None, 96)                37632     \n",
      "_________________________________________________________________\n",
      "repeat_vector_8 (RepeatVecto (None, 14, 96)            0         \n",
      "_________________________________________________________________\n",
      "lstm_13 (LSTM)               (None, 224)               287616    \n",
      "_________________________________________________________________\n",
      "repeat_vector_9 (RepeatVecto (None, 14, 224)           0         \n",
      "_________________________________________________________________\n",
      "lstm_14 (LSTM)               (None, 224)               402304    \n",
      "_________________________________________________________________\n",
      "dense_4 (Dense)              (None, 14)                3150      \n",
      "=================================================================\n",
      "Total params: 730,702\n",
      "Trainable params: 730,702\n",
      "Non-trainable params: 0\n",
      "_________________________________________________________________\n"
     ]
    }
   ],
   "source": [
    "#Model after tuning\n",
    "model = Sequential()\n",
    "model.add(LSTM(96,activation='relu', input_shape=(steps_in,features)))\n",
    "model.add(RepeatVector(steps_out))\n",
    "model.add(LSTM(224, activation='relu'))\n",
    "model.add(RepeatVector(steps_out))\n",
    "model.add(LSTM(224, activation='relu'))\n",
    "model.add(Dense(steps_out))\n",
    "model.compile(optimizer='adam',loss='mape')\n",
    "model.summary()"
   ]
  },
  {
   "cell_type": "code",
   "execution_count": 20,
   "metadata": {},
   "outputs": [
    {
     "name": "stdout",
     "output_type": "stream",
     "text": [
      "m = 313, tr_size = 187, te_size = 126, kt = 126, h = 10\n",
      "(126, 21, 1) (126, 14) (187, 21, 1) (187, 14)\n"
     ]
    },
    {
     "data": {
      "image/png": "[encoded data removed]",
      "text/plain": [
       "<Figure size 432x216 with 1 Axes>"
      ]
     },
     "metadata": {
      "needs_background": "light"
     },
     "output_type": "display_data"
    },
    {
     "name": "stdout",
     "output_type": "stream",
     "text": [
      "Min Training Loss = 28.667818069458008 at Epoch 478\n",
      "h=1  ->  smape= 51.60\n",
      "h=2  ->  smape= 49.37\n",
      "h=3  ->  smape= 40.34\n",
      "h=4  ->  smape= 40.72\n",
      "h=5  ->  smape= 36.04\n",
      "h=6  ->  smape= 32.50\n",
      "h=7  ->  smape= 41.91\n",
      "h=8  ->  smape= 53.56\n",
      "h=9  ->  smape= 58.54\n",
      "h=10 ->  smape= 50.57\n",
      "h=11  ->  smape= 49.02\n",
      "h=12  ->  smape= 44.71\n",
      "h=13  ->  smape= 41.67\n",
      "h=14  ->  smape= 56.66\n",
      "rSq =['0.1379', '0.1945', '0.4168', '0.4825', '0.5365', '0.5534', '0.3592', '0.0614', '-0.1254', '0.0666', '0.1853', '0.2891', '0.3573', '0.0153'] mape =['41.24', '40.59', '36.16', '42.93', '36.00', '28.69', '33.23', '41.59', '43.76', '39.34', '42.27', '37.72', '33.18', '42.50'] smape =['51.60', '49.37', '40.34', '40.72', '36.04', '32.50', '41.91', '53.56', '58.54', '50.57', '49.02', '44.71', '41.67', '56.66'] mse =['1096948.31', '1011563.02', '746793.99', '682743.24', '626690.68', '610483.51', '877630.22', '1268010.98', '1497512.86', '1250986.52', '1107681.43', '1020577.90', '928957.20', '1418945.78'] rmse =['1047.35', '1005.76', '864.17', '826.28', '791.64', '781.33', '936.82', '1126.06', '1223.73', '1118.48', '1052.46', '1010.24', '963.82', '1191.20'] sse =['138215487.55', '127456939.97', '94096042.98', '86025647.72', '78963025.55', '76920922.43', '110581407.66', '159769384.02', '188686619.96', '157624300.99', '139567860.42', '128592814.90', '117048607.79', '178787168.52'] sst =['160330405.71', '158226165.97', '161336710.61', '166232097.97', '170363307.47', '172222212.36', '172574566.00', '170214207.21', '167667914.33', '168868726.71', '171308981.71', '180882088.86', '182113080.33', '181557442.83']\n"
     ]
    }
   ],
   "source": [
    "rSq, mape, smape, mse, rmse, sse, sst, beats, prediction, y_e = rollingValidate(model, True, X, y, -1, 10, 0, 500, 16, True, True, True)\n",
    "print(\"rSq =\"+str(rSq)+ \" mape =\"+str(mape) +\" smape =\"+ str(smape)+\" mse =\"+ str(mse) +\" rmse =\"+ str(rmse)+\" sse =\"+ str(sse)+ \" sst =\"+ str(sst))"
   ]
  },
  {
   "cell_type": "code",
   "execution_count": 22,
   "metadata": {},
   "outputs": [
    {
     "name": "stdout",
     "output_type": "stream",
     "text": [
      "Model: \"sequential_6\"\n",
      "_________________________________________________________________\n",
      "Layer (type)                 Output Shape              Param #   \n",
      "=================================================================\n",
      "lstm_18 (LSTM)               (None, 100)               40800     \n",
      "_________________________________________________________________\n",
      "repeat_vector_12 (RepeatVect (None, 14, 100)           0         \n",
      "_________________________________________________________________\n",
      "lstm_19 (LSTM)               (None, 50)                30200     \n",
      "_________________________________________________________________\n",
      "repeat_vector_13 (RepeatVect (None, 14, 50)            0         \n",
      "_________________________________________________________________\n",
      "lstm_20 (LSTM)               (None, 50)                20200     \n",
      "_________________________________________________________________\n",
      "dense_6 (Dense)              (None, 14)                714       \n",
      "=================================================================\n",
      "Total params: 91,914\n",
      "Trainable params: 91,914\n",
      "Non-trainable params: 0\n",
      "_________________________________________________________________\n"
     ]
    }
   ],
   "source": [
    "#model before tuning\n",
    "amodel = Sequential()\n",
    "amodel.add(LSTM(100,activation='relu', input_shape=(steps_in,features)))\n",
    "amodel.add(RepeatVector(steps_out))\n",
    "amodel.add(LSTM(50, activation='relu'))\n",
    "amodel.add(RepeatVector(steps_out))\n",
    "amodel.add(LSTM(50, activation='relu'))\n",
    "amodel.add(Dense(steps_out))\n",
    "amodel.compile(optimizer='adam',loss='mape')\n",
    "amodel.summary()"
   ]
  },
  {
   "cell_type": "code",
   "execution_count": 23,
   "metadata": {},
   "outputs": [
    {
     "name": "stdout",
     "output_type": "stream",
     "text": [
      "m = 313, tr_size = 187, te_size = 126, kt = 126, h = 10\n",
      "(126, 21, 1) (126, 14) (187, 21, 1) (187, 14)\n"
     ]
    },
    {
     "data": {
      "image/png": "[encoded data removed]",
      "text/plain": [
       "<Figure size 432x216 with 1 Axes>"
      ]
     },
     "metadata": {
      "needs_background": "light"
     },
     "output_type": "display_data"
    },
    {
     "name": "stdout",
     "output_type": "stream",
     "text": [
      "Min Training Loss = 40.6359977722168 at Epoch 363\n",
      "WARNING:tensorflow:5 out of the last 9 calls to <function Model.make_predict_function.<locals>.predict_function at 0x0000026403B04790> triggered tf.function retracing. Tracing is expensive and the excessive number of tracings could be due to (1) creating @tf.function repeatedly in a loop, (2) passing tensors with different shapes, (3) passing Python objects instead of tensors. For (1), please define your @tf.function outside of the loop. For (2), @tf.function has experimental_relax_shapes=True option that relaxes argument shapes that can avoid unnecessary retracing. For (3), please refer to https://www.tensorflow.org/tutorials/customization/performance#python_or_tensor_args and https://www.tensorflow.org/api_docs/python/tf/function for  more details.\n",
      "h=1  ->  smape= 50.86\n",
      "h=2  ->  smape= 52.57\n",
      "h=3  ->  smape= 62.85\n",
      "h=4  ->  smape= 64.32\n",
      "h=5  ->  smape= 66.23\n",
      "h=6  ->  smape= 64.00\n",
      "h=7  ->  smape= 57.15\n",
      "h=8  ->  smape= 69.20\n",
      "h=9  ->  smape= 68.55\n",
      "h=10 ->  smape= 73.04\n",
      "h=11  ->  smape= 77.64\n",
      "h=12  ->  smape= 84.71\n",
      "h=13  ->  smape= 78.20\n",
      "h=14  ->  smape= 80.92\n",
      "rSq =['0.1411', '0.1249', '-0.1114', '-0.1971', '-0.2524', '-0.2030', '-0.0322', '-0.2813', '-0.2774', '-0.4270', '-0.6050', '-0.7486', '-0.5923', '-0.6192'] mape =['39.36', '40.91', '46.60', '47.21', '48.16', '46.62', '42.61', '49.48', '48.99', '51.08', '52.83', '56.65', '53.63', '55.21'] smape =['50.86', '52.57', '62.85', '64.32', '66.23', '64.00', '57.15', '69.20', '68.55', '73.04', '77.64', '84.71', '78.20', '80.92'] mse =['1092867.79', '1098949.08', '1423038.64', '1579389.86', '1693329.74', '1644254.22', '1413755.50', '1730890.40', '1699835.74', '1912513.42', '2182118.68', '2510252.79', '2301375.45', '2333100.22'] rmse =['1045.40', '1048.31', '1192.91', '1256.74', '1301.28', '1282.28', '1189.01', '1315.63', '1303.78', '1382.94', '1477.20', '1584.38', '1517.03', '1527.45'] sse =['137701341.09', '138467584.66', '179302868.85', '199003121.81', '213359547.56', '207176031.70', '178133193.49', '218092190.31', '214179303.74', '240976690.56', '274946954.16', '316291851.43', '289973307.04', '293970627.94'] sst =['160330405.71', '158226165.97', '161336710.61', '166232097.97', '170363307.47', '172222212.36', '172574566.00', '170214207.21', '167667914.33', '168868726.71', '171308981.71', '180882088.86', '182113080.33', '181557442.83']\n"
     ]
    }
   ],
   "source": [
    "rSq, mape, smape, mse, rmse, sse, sst, beats, prediction, y_e = rollingValidate(amodel, True, X, y, -1, 10, 0, 500, 16, True, True, True)\n",
    "print(\"rSq =\"+str(rSq)+ \" mape =\"+str(mape) +\" smape =\"+ str(smape)+\" mse =\"+ str(mse) +\" rmse =\"+ str(rmse)+\" sse =\"+ str(sse)+ \" sst =\"+ str(sst))"
   ]
  },
  {
   "cell_type": "code",
   "execution_count": 7,
   "metadata": {},
   "outputs": [],
   "source": [
    "def train50(X,y):\n",
    "    TR_RATIO = 0.5\n",
    "    m = y.shape[0]\n",
    "    tr_size = int(m * TR_RATIO)\n",
    "    te_size = int(m - tr_size)\n",
    "    te = int(tr_size)\n",
    "   # if kt < 0: kt = te_size\n",
    "    #print(\"m = \"+str(m)+\", tr_size = \"+str(tr_size)+\", te_size = \"+str(te_size))\n",
    "    \n",
    "    (x_e, y_e, x_r, y_r) = chopr (X, y, te, te_size, tr_size)\n",
    "    return x_e, y_e, x_r, y_r"
   ]
  },
  {
   "cell_type": "code",
   "execution_count": 8,
   "metadata": {},
   "outputs": [],
   "source": [
    "def plotHistory(fit_history,ls=\"MAPE\"):\n",
    "    #Get training loss\n",
    "    loss = fit_history.history['loss']\n",
    "    # val_loss = fit_history.history['val_loss']\n",
    "\n",
    "    # Create count of the number of epochs\n",
    "    epoch_count = range(1, len(loss) + 1)\n",
    "\n",
    "#     # Visualize loss history - Plotting Loss vs Number of Epochs during training\n",
    "    plt.figure(num=0,figsize=(6,3))\n",
    "    plt.plot(epoch_count, loss)\n",
    "    # plt.plot(val_loss)\n",
    "    plt.legend(['Training Loss - '+str(ls), 'Validation Loss - '+str(ls)])\n",
    "    plt.xlabel('Epochs')\n",
    "    plt.ylabel(ls)\n",
    "    plt.title(\"Loss vs Epochs\")\n",
    "    plt.show()\n",
    "\n",
    "#     print(\"_________________________________________________________________________________________\")\n",
    "    print(\"Min Training Loss = \" + str(np.min(loss)) + \" \",end='')\n",
    "    print(\"at Epoch \" + str(np.argmin(loss) + 1))\n",
    "    # print(\"Min Validation Loss = \" + str(np.min(val_loss)) + \" \",end='')\n",
    "    # print(\"at Epoch \" + str(np.argmin(val_loss) + 1))\n",
    "#     print(\"__________________________________________________________________________________________\")"
   ]
  },
  {
   "cell_type": "code",
   "execution_count": 9,
   "metadata": {},
   "outputs": [],
   "source": [
    "def eval(y,yp):\n",
    "    # print(y)\n",
    "    # print(yp)\n",
    "    import math\n",
    "    roundTo = 5\n",
    "    m = y.shape[0]\n",
    "    # print(m)\n",
    "    e = np.array(y - yp)\n",
    "\n",
    "    # print(\"m\")\n",
    "    # print(e)\n",
    "    yt = np.array(y - y.mean())\n",
    "    sse = e.dot(e)\n",
    "    sst = yt.dot(yt)\n",
    "    rSq = round((1 - ((sse)/(sst))),roundTo)\n",
    "    mape = round(((np.absolute(e)/np.absolute(y)).sum())*100/m,roundTo)\n",
    "    t = (np.absolute(e)/(np.absolute(y)+np.absolute(yp)))\n",
    "    #print(t.sum()*200/m)\n",
    "    smape = round(((np.absolute(e)/(np.absolute(y)+np.absolute(yp))).sum())*200/m,roundTo)\n",
    "    # smape  = 200 * (e.abs / (yy.abs + yp.abs)).sum / m\n",
    "    mse = round((sse/m),roundTo)\n",
    "    rmse = round(math.sqrt(mse),roundTo)\n",
    "#     return(rSq,mape,mse,rmse,sse,sst)\n",
    "    return(format(rSq,'.4f'),format(mape,'.2f'),format(smape,'.2f'),format(mse,'.2f'),format(rmse,'.2f'),format(sse,'.2f'),format(sst,'.2f'))"
   ]
  },
  {
   "cell_type": "code",
   "execution_count": 10,
   "metadata": {},
   "outputs": [],
   "source": [
    "def rollingValidate(model, train, x, y, kt, h, callbk, nEpoch, nBatch, plot, p1, p2):\n",
    "    TR_RATIO = 0.6\n",
    "    m = y.shape[0]\n",
    "    tr_size = int(m * TR_RATIO)\n",
    "    te_size = int(m - tr_size)\n",
    "    te = int(tr_size)\n",
    "    if kt < 0: kt = te_size\n",
    "    print(\"m = \"+str(m)+\", tr_size = \"+str(tr_size)+\", te_size = \"+str(te_size)+\", kt = \"+str(kt)+\", h = \"+str(h))\n",
    "    \n",
    "    (x_e, y_e, x_r, y_r) = chopr (x, y, te, te_size, tr_size)\n",
    "    print(x_e.shape, y_e.shape, x_r.shape, y_r.shape)\n",
    "    # print(type(y_r))\n",
    "    # print(y_r.index)\n",
    "    \n",
    "    # print(type(y_e))\n",
    "    # print(y_e.index)\n",
    "    #print(y_e.shape)\n",
    "    #y_e = np.array(y_e)\n",
    "    #print(y_e)\n",
    "   # smapearr = [x for x in range(10,24)]\n",
    "   # for h in range(1,15):\n",
    "   #     yr =  y_r[h-1]\n",
    "   #     inp = y_e[h-1].tolist()\n",
    "   #     yrw = inp[:-h]\n",
    "       \n",
    "   #     for i in range(h):\n",
    "   #         yrw.insert(i,inp[i])\n",
    "   #     yrw = np.array(yrw)\n",
    "   #     rSqr, maper, smaper, mser, rmser, sser, sstr = eval(y_e[h-1],yrw)\n",
    "   #     smapearr[h-1] = smaper\n",
    "#     x_r = x_r[1000:]\n",
    "#     y_r = y_r[1000:]\n",
    "#     print(\"Training shape\"+str(x_r.shape))\n",
    "#     print(\"Training shape\"+str(y_r.shape))\n",
    "#     print(\"Testing shape\"+str(x_e.shape))\n",
    "#     print(\"Testing shape\"+str(y_e.shape))\n",
    "    rt = 0\n",
    "#     print(\"number of re-trainings required = \"+str(int((te_size/kt)+1)))\n",
    "    for i in range(y_e.shape[0]):\n",
    "        if i%kt == 0:\n",
    "            rt = rt + 1\n",
    "            if i > 0:\n",
    "                x_r, y_r = shift_rm((x_r,y_r),((x_e.iloc[i-kt:i], y_e.iloc[i-kt:i])))\n",
    "            if train:\n",
    "                if callbk==1:\n",
    "                    callb = callbacks.EarlyStopping(monitor='loss', restore_best_weights=True, patience=20,verbose=1)\n",
    "                else: callb = None\n",
    "             \n",
    "                fit_history = model.fit(x_r, y_r,validation_split=0.10,shuffle=True,epochs=nEpoch, \\\n",
    "                                        batch_size=nBatch,verbose=0, callbacks=callb) #callbacks=[tfa.callbacks.TQDMProgressBar(leave_epoch_progress=False,show_epoch_progress=False)]  workers=10, use_multiprocessing=True,\n",
    "            if plot: plotHistory(fit_history)\n",
    "#     print(\"\\nOut-Sample Results\")\n",
    "#    rw = np.array([2.47,3.79,4.6,5.23,5.75,6.18,6.61,6.94,7.29,7.70]) #RW results - mape for 50% TR\n",
    "#    rw = np.array([float(x) for x in smapearr]) #calculated using python\n",
    "    beats = []\n",
    "    \n",
    "    prediction = model.predict(x_e,batch_size=100)\n",
    "    rSq  = [x for x in range(14)]\n",
    "    mse  = [x for x in range(14)]\n",
    "    sse  = [x for x in range(14)]\n",
    "    sst  = [x for x in range(14)]\n",
    "    rmse = [x for x in range(14)]\n",
    "    mape = [x for x in range(14)]\n",
    "    smape = [x for x in range(14)]\n",
    "    maxdif = 0\n",
    "    maxdifh = 0\n",
    "\n",
    "    for h in range(1,15):\n",
    "        yf = prediction[:,h-1]\n",
    "        rSq[h-1], mape[h-1], smape[h-1], mse[h-1], rmse[h-1], sse[h-1], sst[h-1] = eval(y_e[:,h-1],yf)\n",
    "       # diff = (rw[h-1] - float(mape[h-1]))\n",
    "        #if rw[h-1] >= float(mape[h-1]): beats.append(h)\n",
    "        #if diff > maxdif:\n",
    "        #    maxdif = diff\n",
    "        #    maxdifh = h\n",
    "        if p1:\n",
    "            if h != 10:print(\"h=\"+str(h)+\"  -> \"+\" smape= \"+str(smape[h-1]))     #\" sse = \"+str(sse[h-1]) +\n",
    "            else:print(\"h=\"+str(h)+\" -> \"+\" smape= \"+str(smape[h-1]))            #\" sse = \"+str(sse[h-1]) +\n",
    "#             if h != 10: print(\"h=\"+str(h)+\"  -> \"+\"rsq = \"+str(rSq[h-1])+\" mape = \"+str(mape[h-1])+\",\"+str(format(rw[h-1],'.2f'))+\" mse = \"+str(mse[h-1])+\" rmse = \"+str(rmse[h-1]) +\" sst = \"+str(sst[h-1])) #\" sse = \"+str(sse[h-1]) +\n",
    "#             else: print(\"h=\"+str(h)+\" -> \"+\"rsq = \"+str(rSq[h-1])+\" mape = \"+str(mape[h-1])+\",\"+str(format(rw[h-1],'.2f'))+\" mse = \"+str(mse[h-1])+\" rmse = \"+str(rmse[h-1]) +\" sst = \"+str(sst[h-1])) #\" sse = \"+str(sse[h-1]) +\n",
    "#         print(\"h=\"+str(h)+\" -> \"+\" mape = \"+str(mape)+\",\"+str(rw[h-1])+\" rsq = \"+str(rSq))\n",
    "    #if p2: \n",
    "        #print(\"Beats RW at \"+str(len(beats))+\" values of h=\"+str(beats))\n",
    "        #print(\"Max difference = \"+str(maxdif)+\" at horizon h=\"+str(maxdifh))\n",
    "    return (rSq, mape, smape, mse, rmse, sse, sst, beats, prediction, y_e)"
   ]
  },
  {
   "cell_type": "code",
   "execution_count": 11,
   "metadata": {},
   "outputs": [],
   "source": [
    "def chopr(x,y,te,te_size,tr_size):\n",
    "    te2 = te + te_size\n",
    "    tr = te - tr_size\n",
    "#     print(\"te=\"+str(te))\n",
    "#     print(\"te_size=\"+str(te_size))\n",
    "#     print(\"tr_size=\"+str(tr_size))\n",
    "    x_e = x[te:te2]\n",
    "    y_e = y[te:te2]\n",
    "    x_r = x[tr:te]\n",
    "    y_r = y[tr:te]\n",
    "    \n",
    "#     print(\"test: x_e(\"+str(te)+\" .. \"+str(te2-1)+\")\")\n",
    "#     print(\"test: y_e(\"+str(te)+\" .. \"+str(te2-1)+\")\")\n",
    "#     print(\"train: x_r(\"+str(tr)+\" .. \"+str(te-1)+\")\")\n",
    "#     print(\"train: y_r(\"+str(tr)+\" .. \"+str(te-1)+\")\")\n",
    "    return(x_e, y_e, x_r, y_r)"
   ]
  },
  {
   "cell_type": "code",
   "execution_count": 63,
   "metadata": {},
   "outputs": [
    {
     "name": "stdout",
     "output_type": "stream",
     "text": [
      "[1, 2, 3, 4, 1, 2, 3, 4, 1, 2, 3, 4, 4, 3, 2, 1, 4, 3, 2, 1, 4, 3, 2, 1]\n"
     ]
    }
   ],
   "source": [
    "xa,ya,xb,yb=train50(X,y)\n",
    "print(xa.shape,ya.shape, xb.shape, yb.shape)\n",
    "model.fit(xb,yb, epochs=500, batch_size=20,verbose=0)\n",
    "data=xa[1]\n",
    "pa=model.predict(data.reshape(1,7,1))\n",
    "pb=model.predict(pa.reshape(1,7,1))\n",
    "yc=np.append(ya[1],ya[2])\n",
    "#yc=list(chain(*yc))\n",
    "yc=yc.reshape(1,14)\n",
    "yd=np.append(pa,pb)\n",
    "#yd=list(chain(*yd))\n",
    "yd=yd.reshape(1,14)\n",
    "for h in range(1,15):\n",
    "    rSq, mape, smape, mse, rmse, sse, sst = eval(yc[:,h-1],yd[:,h-1])\n",
    "    print(yc[:,h-1], yd[:,h-1])\n",
    "    print((\"h=\"+str(h)+\"  -> \"+\"rsq = \"+str(rSq)+\" mape = \"+str(mape)+\" smape = \"+str(smape)+\" mse = \"+str(mse)+\" rmse = \"+str(rmse) +\" sse = \"+str(sse) +\" sst = \"+str(sst),\"h=\"+str(h)+\" -> \"+\"rsq = \"+str(rSq)+\" mape = \"+str(mape)+\" smape = \"+str(smape)+\" mse = \"+str(mse)+\" rmse = \"+str(rmse) +\" sse = \"+str(sse) +\" sst = \"+str(sst))[h >= 10])\n",
    "\n"
   ]
  },
  {
   "cell_type": "code",
   "execution_count": null,
   "metadata": {},
   "outputs": [],
   "source": []
  }
 ],
 "metadata": {
  "kernelspec": {
   "display_name": "Python 3",
   "language": "python",
   "name": "python3"
  },
  "language_info": {
   "codemirror_mode": {
    "name": "ipython",
    "version": 3
   },
   "file_extension": ".py",
   "mimetype": "text/x-python",
   "name": "python",
   "nbconvert_exporter": "python",
   "pygments_lexer": "ipython3",
   "version": "3.8.5"
  }
 },
 "nbformat": 4,
 "nbformat_minor": 2
}
