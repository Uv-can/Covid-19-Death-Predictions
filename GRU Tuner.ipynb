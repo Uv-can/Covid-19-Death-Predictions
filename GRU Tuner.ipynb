{
 "cells": [
  {
   "cell_type": "code",
   "execution_count": 1,
   "metadata": {},
   "outputs": [],
   "source": [
    "import pandas as pd\n",
    "import numpy as np\n",
    "import keras\n",
    "from numpy import array\n",
    "from pandas import read_csv\n",
    "from matplotlib import pyplot\n",
    "from keras.models import Sequential\n",
    "from keras.layers import GRU\n",
    "from keras.layers import LSTM\n",
    "from keras.layers import Dense\n",
    "from keras.layers import Flatten\n",
    "from keras.layers import Dropout\n",
    "from keras.layers import RepeatVector\n",
    "from keras.layers.convolutional import Conv1D\n",
    "from keras.layers.convolutional import MaxPooling1D\n",
    "from matplotlib import pyplot as plt\n",
    "from itertools import chain\n",
    "import time"
   ]
  },
  {
   "cell_type": "code",
   "execution_count": 2,
   "metadata": {},
   "outputs": [],
   "source": [
    "MY_DIR=f\"{int(time.time())}\""
   ]
  },
  {
   "cell_type": "code",
   "execution_count": 3,
   "metadata": {},
   "outputs": [],
   "source": [
    "from tensorflow import keras\n",
    "from tensorflow.keras import layers\n",
    "from kerastuner.tuners import RandomSearch"
   ]
  },
  {
   "cell_type": "code",
   "execution_count": 4,
   "metadata": {},
   "outputs": [
    {
     "name": "stdout",
     "output_type": "stream",
     "text": [
      "(391, 18)\n"
     ]
    }
   ],
   "source": [
    "df = pd.read_csv('https://raw.githubusercontent.com/scalation/data/master/COVID/CLEANED_35.csv')\n",
    "print(df.shape)\n",
    "date = df['date'].tail(391-44)\n",
    "deaths = df['deathIncrease'].tail(391-44)\n",
    "sequence=list(deaths)"
   ]
  },
  {
   "cell_type": "code",
   "execution_count": 5,
   "metadata": {},
   "outputs": [],
   "source": [
    "def split_sequence(data,steps_in,steps_out):\n",
    "    X,y=list(),list()\n",
    "    for i in range(len(data)):\n",
    "        seq_end=i+steps_in\n",
    "        end_out=seq_end+steps_out\n",
    "        if end_out > len(data):\n",
    "            break\n",
    "        seq_x, seq_y=data[i:seq_end], data[seq_end:end_out]\n",
    "        X.append(seq_x)\n",
    "        y.append(seq_y)\n",
    "    return array(X),array(y)"
   ]
  },
  {
   "cell_type": "code",
   "execution_count": 6,
   "metadata": {},
   "outputs": [],
   "source": [
    "steps_in, steps_out = 21 , 14\n",
    "X, y=split_sequence(sequence,steps_in,steps_out)"
   ]
  },
  {
   "cell_type": "code",
   "execution_count": 7,
   "metadata": {},
   "outputs": [
    {
     "name": "stdout",
     "output_type": "stream",
     "text": [
      "(313, 21, 1) (313, 14)\n"
     ]
    }
   ],
   "source": [
    "features=1\n",
    "X=X.reshape(X.shape[0],X.shape[1],1)\n",
    "print(X.shape, y.shape)"
   ]
  },
  {
   "cell_type": "code",
   "execution_count": 9,
   "metadata": {},
   "outputs": [
    {
     "name": "stdout",
     "output_type": "stream",
     "text": [
      "(313, 21, 1) (313, 14, 1) (313, 21) (313, 14)\n"
     ]
    }
   ],
   "source": [
    "X=X.astype('float32')\n",
    "y=y.astype('float32')\n",
    "# Xa and ya are used for GRU, CNN, LSTM.\n",
    "Xa=X.reshape(X.shape[0],X.shape[1],1)\n",
    "ya=y.reshape(y.shape[0],y.shape[1],1)\n",
    "#Xb and yb are used for CNN\n",
    "Xb=Xa.reshape(Xa.shape[0],Xa.shape[1])\n",
    "yb=ya.reshape(ya.shape[0],ya.shape[1])\n",
    "print(Xa.shape,ya.shape, Xb.shape, yb.shape)"
   ]
  },
  {
   "cell_type": "code",
   "execution_count": 48,
   "metadata": {},
   "outputs": [],
   "source": [
    "'''\n",
    "To build a CNN model or hybrid model like CNN-LSTM remove the commented part in below fucntion and set optimizing \n",
    "parameters as you wish.\n",
    "'''\n",
    "def build_GRU_model(hp):\n",
    "    model = keras.Sequential()\n",
    "    #model.add(layers.Conv1D(filters = 64,kernel_size=3,activation='relu', input_shape=(21,1)))\n",
    "    #model.add(layers.MaxPooling1D(pool_size=2))\n",
    "    #model.add(layers.Flatten())\n",
    "    #model.add(layers.RepeatVector(14)) \n",
    "    model.add(layers.GRU(hp.Int('Input-units',min_value=32,max_value=256,step=32),activation='relu', input_shape=(21,1)))\n",
    "    model.add(layers.RepeatVector(14))    \n",
    "    model.add(layers.GRU(hp.Int('2ndlast-gru',min_value=32,max_value=256,step=32),activation='relu'))  \n",
    "    model.add(layers.RepeatVector(14))\n",
    "    model.add(layers.GRU(hp.Int('last-gru',min_value=32,max_value=256,step=32),activation='relu'))    \n",
    "    model.add(layers.Dense(14))\n",
    "    model.compile(optimizer='adam',loss='mape',metrics=['accuracy'])\n",
    "                    \n",
    "        \n",
    "    return model"
   ]
  },
  {
   "cell_type": "code",
   "execution_count": 49,
   "metadata": {},
   "outputs": [],
   "source": [
    "'''\n",
    "To search we have to set number of trials and trials per execution here.\n",
    "'''\n",
    "tuner = RandomSearch(\n",
    "    build_model,\n",
    "    objective='val_accuracy',\n",
    "    max_trials=200,\n",
    "    executions_per_trial=1,\n",
    "    directory=MY_DIR)"
   ]
  },
  {
   "cell_type": "code",
   "execution_count": 50,
   "metadata": {},
   "outputs": [
    {
     "name": "stdout",
     "output_type": "stream",
     "text": [
      "Search space summary\n",
      "Default search space size: 2\n",
      "Input-units (Int)\n",
      "{'default': None, 'conditions': [], 'min_value': 32, 'max_value': 256, 'step': 32, 'sampling': None}\n",
      "2ndlast-gru (Int)\n",
      "{'default': None, 'conditions': [], 'min_value': 32, 'max_value': 256, 'step': 32, 'sampling': None}\n"
     ]
    }
   ],
   "source": [
    "tuner.search_space_summary()"
   ]
  },
  {
   "cell_type": "code",
   "execution_count": 51,
   "metadata": {},
   "outputs": [
    {
     "name": "stdout",
     "output_type": "stream",
     "text": [
      "Trial 45 Complete [00h 00m 12s]\n",
      "val_accuracy: 0.46875\n",
      "\n",
      "Best val_accuracy So Far: 0.53125\n",
      "Total elapsed time: 00h 09m 26s\n",
      "INFO:tensorflow:Oracle triggered exit\n"
     ]
    }
   ],
   "source": [
    "tuner.search(x=xb, y=yb, epochs=200, batch_size=32, validation_split=0.1)"
   ]
  },
  {
   "cell_type": "code",
   "execution_count": 52,
   "metadata": {},
   "outputs": [],
   "source": [
    "'''\n",
    "The pickle object stores the all the information gathered by tuner and store it in pickle file\n",
    "'''\n",
    "import pickle\n",
    "with open(f\"Final CNN tuned {int(time.time())}.pkl\",\"wb\") as f:\n",
    "    pickle.dump(tuner, f)"
   ]
  },
  {
   "cell_type": "code",
   "execution_count": 53,
   "metadata": {},
   "outputs": [
    {
     "name": "stdout",
     "output_type": "stream",
     "text": [
      "{'Input-units': 224, '2ndlast-gru': 32}\n"
     ]
    }
   ],
   "source": [
    "'''\n",
    "Using below lines of code we can print the stored pickel object.\n",
    "'''\n",
    "tuner = pickle.load(open(\"Final CNN tuned 1619759188.pkl\",\"rb\"))\n",
    "print(tuner.get_best_hyperparameters()[0].values)\n"
   ]
  },
  {
   "cell_type": "code",
   "execution_count": 36,
   "metadata": {},
   "outputs": [
    {
     "name": "stdout",
     "output_type": "stream",
     "text": [
      "{'Input-units': 96, '2ndlast-gru': 96, 'last-gru': 96}\n"
     ]
    }
   ],
   "source": [
    "tuner1 = pickle.load(open(\"CNN tuned 1619142490.pkl\",\"rb\"))\n",
    "print(tuner1.get_best_hyperparameters()[0].values)\n"
   ]
  },
  {
   "cell_type": "code",
   "execution_count": 37,
   "metadata": {},
   "outputs": [
    {
     "name": "stdout",
     "output_type": "stream",
     "text": [
      "{'Input-units': 96, '2ndlast-gru': 96, 'last-gru': 96}\n"
     ]
    }
   ],
   "source": [
    "tuner2 = pickle.load(open(\"ANN tuned 1619024719.pkl\",\"rb\"))\n",
    "print(tuner1.get_best_hyperparameters()[0].values)\n"
   ]
  },
  {
   "cell_type": "code",
   "execution_count": null,
   "metadata": {},
   "outputs": [],
   "source": []
  }
 ],
 "metadata": {
  "kernelspec": {
   "display_name": "Python 3",
   "language": "python",
   "name": "python3"
  },
  "language_info": {
   "codemirror_mode": {
    "name": "ipython",
    "version": 3
   },
   "file_extension": ".py",
   "mimetype": "text/x-python",
   "name": "python",
   "nbconvert_exporter": "python",
   "pygments_lexer": "ipython3",
   "version": "3.8.5"
  }
 },
 "nbformat": 4,
 "nbformat_minor": 2
}
